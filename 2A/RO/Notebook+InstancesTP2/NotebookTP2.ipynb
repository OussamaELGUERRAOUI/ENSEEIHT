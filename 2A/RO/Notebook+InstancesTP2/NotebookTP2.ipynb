{
 "cells": [
  {
   "cell_type": "markdown",
   "metadata": {},
   "source": [
    "# TP 2 : Branch-and-bound applied to a knapsack problem"
   ]
  },
  {
   "cell_type": "markdown",
   "metadata": {},
   "source": [
    "### Initialisation (à faire une seule fois)"
   ]
  },
  {
   "cell_type": "code",
   "execution_count": 3,
   "metadata": {},
   "outputs": [
    {
     "name": "stderr",
     "output_type": "stream",
     "text": [
      "\u001b[32m\u001b[1m   Resolving\u001b[22m\u001b[39m package versions...\n"
     ]
    },
    {
     "name": "stderr",
     "output_type": "stream",
     "text": [
      "\u001b[32m\u001b[1m  No Changes\u001b[22m\u001b[39m to `C:\\Users\\elgue\\OneDrive\\Bureau\\SN\\2SN\\S7\\RO\\Notebook+InstancesTP2\\Project.toml`\n",
      "\u001b[32m\u001b[1m  No Changes\u001b[22m\u001b[39m to `C:\\Users\\elgue\\OneDrive\\Bureau\\SN\\2SN\\S7\\RO\\Notebook+InstancesTP2\\Manifest.toml`\n"
     ]
    },
    {
     "name": "stderr",
     "output_type": "stream",
     "text": [
      "\u001b[32m\u001b[1m   Resolving\u001b[22m\u001b[39m package versions...\n"
     ]
    },
    {
     "name": "stderr",
     "output_type": "stream",
     "text": [
      "\u001b[32m\u001b[1m  No Changes\u001b[22m\u001b[39m to `C:\\Users\\elgue\\OneDrive\\Bureau\\SN\\2SN\\S7\\RO\\Notebook+InstancesTP2\\Project.toml`\n",
      "\u001b[32m\u001b[1m  No Changes\u001b[22m\u001b[39m to `C:\\Users\\elgue\\OneDrive\\Bureau\\SN\\2SN\\S7\\RO\\Notebook+InstancesTP2\\Manifest.toml`"
     ]
    },
    {
     "name": "stderr",
     "output_type": "stream",
     "text": [
      "\n"
     ]
    }
   ],
   "source": [
    "import Pkg; \n",
    "Pkg.add(\"GraphRecipes\"); Pkg.add(\"Plots\"); \n",
    "using GraphRecipes, Plots #only used to visualize the search tree at the end of the branch-and-bound"
   ]
  },
  {
   "cell_type": "markdown",
   "metadata": {},
   "source": [
    "### Récupération des données"
   ]
  },
  {
   "cell_type": "code",
   "execution_count": 4,
   "metadata": {},
   "outputs": [
    {
     "data": {
      "text/plain": [
       "readKnaptxtInstance (generic function with 1 method)"
      ]
     },
     "metadata": {},
     "output_type": "display_data"
    }
   ],
   "source": [
    "function readKnaptxtInstance(filename)\n",
    "    price=Int64[]\n",
    "    weight=Int64[]\n",
    "    KnapCap=Int64[]\n",
    "    open(filename) do f\n",
    "        for i in 1:3\n",
    "            tok = split(readline(f))\n",
    "            if(tok[1] == \"ListPrices=\")\n",
    "                for i in 2:(length(tok)-1)\n",
    "                    push!(price,parse(Int64, tok[i]))\n",
    "                end\n",
    "            elseif(tok[1] == \"ListWeights=\")\n",
    "                for i in 2:(length(tok)-1)\n",
    "                    push!(weight,parse(Int64, tok[i]))\n",
    "                end\n",
    "            elseif(tok[1] == \"Capacity=\")\n",
    "                push!(KnapCap, parse(Int64, tok[2]))\n",
    "            else\n",
    "                println(\"Unknown read :\", tok)\n",
    "            end\n",
    "        end\n",
    "    end\n",
    "    capacity=KnapCap[1]\n",
    "    return price, weight, capacity\n",
    "end"
   ]
  },
  {
   "cell_type": "markdown",
   "metadata": {},
   "source": [
    "### Tests de sondabilités TA, TO et TR basés sur le modèle linéaire"
   ]
  },
  {
   "cell_type": "code",
   "execution_count": 5,
   "metadata": {},
   "outputs": [
    {
     "data": {
      "text/plain": [
       "testSondability_LP (generic function with 1 method)"
      ]
     },
     "metadata": {},
     "output_type": "display_data"
    }
   ],
   "source": [
    "function testSondability_LP( capacity,  borne, BestProfit, Bestsol)\n",
    "   \n",
    "    TA, TO, TR = false, false, false\n",
    "    \n",
    "    \n",
    "\n",
    "    if capacity < 0  # Test d'Admissibilité\n",
    "        TA = true\n",
    "        \n",
    "        println(\"TA\")\n",
    "        \n",
    "    elseif (borne < BestProfit)  # Test d'optimalite\n",
    "        TO = true\n",
    "        \n",
    "        println(\"TO\")\n",
    "        \n",
    "    elseif (capacity == 0) || (borne == BestProfit)  # Test de resolution\n",
    "        TR = true\n",
    "        \n",
    "        println(\"TR\")\n",
    "       \n",
    "        \n",
    "    else\n",
    "        \n",
    "        println(\"non sondable\")\n",
    "        \n",
    "    end\n",
    "    return TA, TO, TR, Bestsol, BestProfit\n",
    "end"
   ]
  },
  {
   "cell_type": "markdown",
   "metadata": {},
   "source": [
    "## Procédure de séparation (branching) et stratégie d'exploration permettant de se placer au prochain noeud à traiter"
   ]
  },
  {
   "cell_type": "code",
   "execution_count": 6,
   "metadata": {},
   "outputs": [
    {
     "data": {
      "text/plain": [
       "exploreNextNode_depthfirst! (generic function with 1 method)"
      ]
     },
     "metadata": {},
     "output_type": "display_data"
    }
   ],
   "source": [
    "function separateNodeThenchooseNext_lexicographic_depthfirst!(listobjs, listvals, n)\n",
    "    # this node is non-sondable. Apply the branching criterion to separate it into two subnodes\n",
    "    # and choose the child-node at the left\n",
    "\n",
    "    # lexicographic branching criterion: branch on the 1st object not yet fixed\n",
    "    i, obj = 1, 0\n",
    "    while((i <= n) && (obj==0))\n",
    "        if(!(i in listobjs))\n",
    "            obj=i\n",
    "        end\n",
    "        i+=1\n",
    "    end\n",
    "\n",
    "    println(\"\\nbranch on object \", obj, \"\\n\")\n",
    "\n",
    "    # depthfirst exploration strategy: the node selected will be the most left of the child-nodes just created\n",
    "    push!(listobjs,obj) #save the identity of the object selected for branching\n",
    "    push!(listvals,1.0) #save the node selected, identified by the value assigned to the variable/object chosen\n",
    "end\n",
    "\n",
    "\n",
    "function exploreNextNode_depthfirst!(listobjs, listvals, listnodes)\n",
    "    #this node is sondable, go back to parent node then right child if possible\n",
    "\n",
    "    stop=false\n",
    "    #check if we are not at the root node\n",
    "    if (length(listobjs)>= 1)\n",
    "        #go back to parent node\n",
    "        obj=pop!(listobjs)\n",
    "        theval=pop!(listvals)\n",
    "        tmp=pop!(listnodes)\n",
    "\n",
    "        #go to right child if possible, otherwise go back to parent\n",
    "        while( (theval==0.0) && (length(listobjs)>= 1))\n",
    "            obj=pop!(listobjs)\n",
    "            theval=pop!(listvals)\n",
    "            tmp=pop!(listnodes)\n",
    "        end\n",
    "        if theval==1.0\n",
    "            push!(listobjs,obj)\n",
    "            push!(listvals,0.0)\n",
    "        else\n",
    "            println(\"\\nFINISHED\")\n",
    "            stop=true\n",
    "        end\n",
    "    else\n",
    "        #the root node was sondable\n",
    "        println(\"\\nFINISHED\")\n",
    "        stop=true\n",
    "    end\n",
    "    return stop\n",
    "end"
   ]
  },
  {
   "cell_type": "markdown",
   "metadata": {},
   "source": [
    "###  Création de la relaxation linéaire (= modèle associé au noeud 0): <span style=\"color:red\"> SECTION A SUPPRIMER !!!! </span>\n",
    "\n",
    "<span style=\"color:red\"> Cette section est à commenter/supprimer et remplacer par vos propres calculs de bornes supérieures et autres, par exemple basées sur les bornes 1 et 2 vues en cours, ou d'autres calculs de bornes de votre choix/conception validés au préalable par votre encadrant/e de TP </span>"
   ]
  },
  {
   "cell_type": "code",
   "execution_count": 7,
   "metadata": {},
   "outputs": [
    {
     "data": {
      "text/plain": [
       "Bornes (generic function with 1 method)"
      ]
     },
     "metadata": {},
     "output_type": "display_data"
    }
   ],
   "source": [
    "function Bornes(price,weight, capacity, listobjs,listvals, BestProfit, Bestsol, option)\n",
    "    \n",
    "    \n",
    "    borne = 0\n",
    "    prix = 0\n",
    "    max = 0\n",
    "\n",
    "    \n",
    "    if option == 1\n",
    "        weightAct = 0\n",
    "        priceAct = 0\n",
    "        for i in 1:length(listobjs)\n",
    "            if listvals[i] == 1\n",
    "                weightAct += weight[listobjs[i]]\n",
    "                priceAct += price[listobjs[i]]\n",
    "            end\n",
    "                   \n",
    "        end\n",
    "    \n",
    "        if priceAct >= BestProfit\n",
    "            Bestsol = copy(listobjs)\n",
    "            BestProfit = priceAct\n",
    "        end\n",
    "            \n",
    "        if (length(listobjs) < length(price))\n",
    "                \n",
    "            for i in (length(listobjs)+1):length(price)\n",
    "                r = price[i]/weight[i]\n",
    "                if (!(i in listobjs)) \n",
    "                    if r > max        \n",
    "                        max = r\n",
    "                \n",
    "                   end     \n",
    "                \n",
    "                end\n",
    "            end\n",
    "                \n",
    "            borne = priceAct + max*capacity\n",
    "            \n",
    "        else\n",
    "            \n",
    "            borne = priceAct\n",
    "            \n",
    "        end\n",
    "        \n",
    "    elseif option == 2\n",
    "        for i in 1:length(listobjs)\n",
    "            if listvals[i] == 1\n",
    "                capacity = capacity - weight[listobjs[i]]\n",
    "                println(\"capacity2 =\", capacity)\n",
    "                prix = prix + price[listobjs[i]]\n",
    "                \n",
    "            end\n",
    "        end\n",
    "    \n",
    "        deleteat!(price, listobjs)\n",
    "        deleteat!(weight, listobjs)\n",
    "    \n",
    "        if capacity >= 0\n",
    "            if prix > BestProfit\n",
    "                BestProfit = prix\n",
    "                Bestsol= copy(listobjs)\n",
    "            end\n",
    "        end\n",
    "        \n",
    "        \n",
    "        #ration\n",
    "        r = price./weight\n",
    "        listR = [(r[i], weight[i]) for i in 1:length(price)]\n",
    "        listR = sort(listR, by = x -> x[1], rev=true)\n",
    "        prix1 = 0\n",
    "\n",
    "        for i in 1:length(listR)\n",
    "            if listR[i][2] <= capacity\n",
    "                prix1 = prix1 + listR[i][1]*listR[i][2]\n",
    "                capacity = capacity - listR[i][2]\n",
    "            else\n",
    "                break\n",
    "            end\n",
    "        end\n",
    "\n",
    "        borne = prix + prix1\n",
    "    end\n",
    "         \n",
    "return borne, capacity, BestProfit, Bestsol\n",
    "        \n",
    "end"
   ]
  },
  {
   "cell_type": "markdown",
   "metadata": {},
   "source": [
    "### Boucle principale : résoudre une relaxation, appliquer les tests de sondabilité, identifier le prochain noeud, répéter."
   ]
  },
  {
   "cell_type": "code",
   "execution_count": 13,
   "metadata": {},
   "outputs": [
    {
     "data": {
      "text/plain": [
       "solveKnapInstance (generic function with 1 method)"
      ]
     },
     "metadata": {},
     "output_type": "display_data"
    }
   ],
   "source": [
    "function solveKnapInstance(filename)\n",
    "\n",
    "    price, weight, capacity = readKnaptxtInstance(filename)\n",
    "    n = length(price)\n",
    "\n",
    "    #model2, x = createModel_LP(price, weight, capacity)\n",
    "\n",
    "    #create the structure to memorize the search tree for visualization at the end\n",
    "    trParentnodes=Int64[] #will store orig node of arc in search tree\n",
    "    trChildnodes=Int64[] #will store destination node of arc in search tree\n",
    "    trNamenodes=[] #will store names of nodes in search tree\n",
    "\n",
    "    #intermediate structure to navigate in the search tree\n",
    "    listobjs=Int64[]\n",
    "    listvals=Float64[]\n",
    "    listnodes=Int64[]\n",
    "\n",
    "    BestProfit::Float64=-1.0\n",
    "    Bestsol=Float64[]\n",
    "\n",
    "    current_node_number::Int64=0\n",
    "    stop = false\n",
    "\n",
    "    while(!stop)\n",
    "\n",
    "        println(\"\\nNode number \", current_node_number, \": \\n---------------\\n\")\n",
    "\n",
    "        #Update the graphical tree\n",
    "        push!(trNamenodes,current_node_number+1) \n",
    "        if(length(trNamenodes)>=2)\n",
    "            push!(trParentnodes,listnodes[end]+1) # +1 because the 1st node is \"node 0\"\n",
    "            push!(trChildnodes, current_node_number+1) # +1 because the 1st node is \"node 0\"\n",
    "        end\n",
    "        push!(listnodes, current_node_number)\n",
    "\n",
    "        \n",
    "        #create LP of current node\n",
    "        #updateModele_LP!(model2, x, listobjs, listvals)\n",
    "        \n",
    "        #println(model2)\n",
    "        \n",
    "        print(\"Solve the LP model of the current node to compute its bound: start ... \")\n",
    "\n",
    "        #status = optimize!(model2)\n",
    "\n",
    "        \n",
    "        priceAct = deepcopy(price)\n",
    "        weightAct = deepcopy(weight)\n",
    "        capacityAct = capacity\n",
    "\n",
    "       \n",
    "        option = 2\n",
    "        \n",
    "        borne, capacityAc, Bestp, BestS = Bornes(priceAct, weightAct, capacityAct, listobjs,listvals, BestProfit, Bestsol, option)\n",
    "\n",
    "        BestProfit = Bestp\n",
    "\n",
    "        Bestsol = BestS\n",
    "\n",
    "\n",
    "\n",
    "        TA, TO, TR = testSondability_LP( capacityAc,  borne, Bestp, BestS)\n",
    "\n",
    "        is_node_sondable = TA || TO || TR\n",
    "\n",
    "        #Reset_LP!(model2, x, listobjs)\n",
    "\n",
    "        if(!is_node_sondable)\n",
    "            separateNodeThenchooseNext_lexicographic_depthfirst!(listobjs, listvals, length(price))\n",
    "        else\n",
    "            stop = exploreNextNode_depthfirst!(listobjs, listvals, listnodes)\n",
    "        end\n",
    "        \n",
    "        #resetAll_LP!(model2, x)\n",
    "\n",
    "        current_node_number = current_node_number + 1\n",
    "    end\n",
    "\n",
    "    println(\"\\n******\\n\\nOptimal value = \", BestProfit, \"\\n\\nOptimal x=\", Bestsol)\n",
    "\n",
    "    return BestProfit, Bestsol, trParentnodes, trChildnodes, trNamenodes\n",
    "\n",
    "end\n"
   ]
  },
  {
   "cell_type": "markdown",
   "metadata": {},
   "source": [
    "### Affichage du résultat final"
   ]
  },
  {
   "cell_type": "code",
   "execution_count": 14,
   "metadata": {},
   "outputs": [
    {
     "data": {
      "text/plain": [
       "solveNdisplayKnap (generic function with 1 method)"
      ]
     },
     "metadata": {},
     "output_type": "display_data"
    }
   ],
   "source": [
    "function solveNdisplayKnap(filename)\n",
    "\n",
    "    println(\"\\n Branch-and-Bound for solving a knapsack problem. \\n\\n Solving instance '\" * filename * \"'\\n\")\n",
    "\n",
    "    BestProfit, Bestsol, trParentnodes, trChildnodes, trNamenodes = solveKnapInstance(filename)\n",
    "\n",
    "    println(\"\\n******\\n\\nOptimal value = \", BestProfit, \"\\n\\nOptimal x=\", Bestsol)\n",
    "\n",
    "    println(\"\\n Branch-and-bound tree visualization : start display ...\")\n",
    "    display(graphplot(trParentnodes, trChildnodes, names=trNamenodes, method=:tree))\n",
    "    println(\"... end display. \\n\\n\")\n",
    "\n",
    "end"
   ]
  },
  {
   "cell_type": "code",
   "execution_count": 15,
   "metadata": {},
   "outputs": [
    {
     "name": "stdout",
     "output_type": "stream",
     "text": [
      "\n",
      " Branch-and-Bound for solving a knapsack problem. \n",
      "\n",
      " Solving instance 'InstancesKnapSack/test.opb.txt'\n",
      "\n",
      "\n",
      "Node number 0: \n",
      "---------------\n",
      "\n"
     ]
    },
    {
     "name": "stdout",
     "output_type": "stream",
     "text": [
      "Solve the LP model of the current node to compute its bound: start ... non sondable\n",
      "\n",
      "branch on object 1\n",
      "\n",
      "\n",
      "Node number 1: \n",
      "---------------\n",
      "\n",
      "Solve the LP model of the current node to compute its bound: start ... capacity2 =3\n",
      "TR\n",
      "\n",
      "Node number 2: \n",
      "---------------\n",
      "\n",
      "Solve the LP model of the current node to compute its bound: start ... non sondable\n",
      "\n",
      "branch on object 2\n",
      "\n",
      "\n",
      "Node number 3: \n",
      "---------------\n",
      "\n",
      "Solve the LP model of the current node to compute its bound: start ... capacity2 =6\n",
      "non sondable\n",
      "\n",
      "branch on object 3\n",
      "\n",
      "\n",
      "Node number 4: \n",
      "---------------\n",
      "\n",
      "Solve the LP model of the current node to compute its bound: start ... capacity2 =6\n",
      "capacity2 =3\n",
      "TR\n",
      "\n",
      "Node number 5: \n",
      "---------------\n",
      "\n",
      "Solve the LP model of the current node to compute its bound: start ... capacity2 =6\n",
      "non sondable\n",
      "\n",
      "branch on object 4\n",
      "\n",
      "\n",
      "Node number 6: \n",
      "---------------\n",
      "\n",
      "Solve the LP model of the current node to compute its bound: start ... capacity2 =6\n",
      "capacity2 =1"
     ]
    },
    {
     "data": {
      "image/png": "[encoded data removed]",
      "image/svg+xml": [
       "<?xml version=\"1.0\" encoding=\"utf-8\"?>\n",
       "<svg xmlns=\"http://www.w3.org/2000/svg\" xmlns:xlink=\"http://www.w3.org/1999/xlink\" width=\"600\" height=\"400\" viewBox=\"0 0 2400 1600\">\n",
       "<defs>\n",
       "  <clipPath id=\"clip150\">\n",
       "    <rect x=\"0\" y=\"0\" width=\"2400\" height=\"1600\"/>\n",
       "  </clipPath>\n",
       "</defs>\n",
       "<path clip-path=\"url(#clip150)\" d=\"M0 1600 L2400 1600 L2400 0 L0 0  Z\" fill=\"#ffffff\" fill-rule=\"evenodd\" fill-opacity=\"1\"/>\n",
       "<defs>\n",
       "  <clipPath id=\"clip151\">\n",
       "    <rect x=\"480\" y=\"0\" width=\"1681\" height=\"1600\"/>\n",
       "  </clipPath>\n",
       "</defs>\n",
       "<path clip-path=\"url(#clip150)\" d=\"M447.244 1552.76 L1952.76 1552.76 L1952.76 47.2441 L447.244 47.2441  Z\" fill=\"#ffffff\" fill-rule=\"evenodd\" fill-opacity=\"1\"/>\n",
       "<defs>\n",
       "  <clipPath id=\"clip152\">\n",
       "    <rect x=\"447\" y=\"47\" width=\"1507\" height=\"1507\"/>\n",
       "  </clipPath>\n",
       "</defs>\n",
       "<polyline clip-path=\"url(#clip152)\" style=\"stroke:#000000; stroke-linecap:round; stroke-linejoin:round; stroke-width:4; stroke-opacity:1; fill:none\" points=\"1462.65,262.317 1463.61,274.001 1466.4,285.174 1470.88,295.873 1476.91,306.136 1484.36,316.001 1493.1,325.507 1502.99,334.69 1513.9,343.589 1525.68,352.242 1538.21,360.686 1551.35,368.96 1564.96,377.101 1578.91,385.148 1593.06,393.138 1607.28,401.108 1621.43,409.098 1635.38,417.145 1648.99,425.286 1662.13,433.56 1674.66,442.004 1686.44,450.657 1697.35,459.556 1707.24,468.739 1715.98,478.245 1723.43,488.11 1729.46,498.373 1733.94,509.072 1736.72,520.245 1737.68,531.929 \"/>\n",
       "<polyline clip-path=\"url(#clip152)\" style=\"stroke:#000000; stroke-linecap:round; stroke-linejoin:round; stroke-width:4; stroke-opacity:1; fill:none\" points=\"1462.65,262.317 1461.9,272.561 1459.72,282.505 1456.21,292.173 1451.48,301.585 1445.63,310.764 1438.78,319.733 1431.03,328.513 1422.48,337.127 1413.24,345.597 1403.42,353.945 1393.12,362.193 1382.44,370.363 1371.51,378.478 1360.41,386.56 1349.26,394.63 1338.17,402.712 1327.23,410.827 1316.56,418.998 1306.26,427.246 1296.44,435.593 1287.2,444.063 1278.65,452.677 1270.89,461.457 1264.04,470.426 1258.2,479.605 1253.47,489.018 1249.96,498.685 1247.77,508.629 1247.02,518.873 \"/>\n",
       "<polyline clip-path=\"url(#clip152)\" style=\"stroke:#000000; stroke-linecap:round; stroke-linejoin:round; stroke-width:4; stroke-opacity:1; fill:none\" points=\"1247.02,518.873 1246.47,529.564 1244.86,540.228 1242.29,550.867 1238.81,561.484 1234.52,572.08 1229.49,582.657 1223.8,593.218 1217.52,603.764 1210.74,614.297 1203.52,624.819 1195.96,635.333 1188.13,645.84 1180.09,656.341 1171.95,666.84 1163.76,677.338 1155.61,687.837 1147.58,698.339 1139.75,708.845 1132.18,719.359 1124.97,729.881 1118.19,740.414 1111.91,750.96 1106.22,761.521 1101.18,772.098 1096.89,782.695 1093.42,793.311 1090.84,803.951 1089.24,814.615 1088.69,825.305 \"/>\n",
       "<polyline clip-path=\"url(#clip152)\" style=\"stroke:#000000; stroke-linecap:round; stroke-linejoin:round; stroke-width:4; stroke-opacity:1; fill:none\" points=\"1088.69,825.305 1089.44,833.705 1091.64,841.605 1095.16,849.043 1099.91,856.056 1105.78,862.68 1112.67,868.952 1120.46,874.911 1129.05,880.591 1138.33,886.032 1148.19,891.268 1158.54,896.339 1169.26,901.279 1180.25,906.128 1191.39,910.921 1202.59,915.695 1213.74,920.488 1224.73,925.336 1235.45,930.277 1245.79,935.347 1255.66,940.584 1264.94,946.024 1273.53,951.705 1281.32,957.663 1288.2,963.936 1294.07,970.56 1298.83,977.573 1302.35,985.011 1304.55,992.911 1305.3,1001.31 \"/>\n",
       "<polyline clip-path=\"url(#clip152)\" style=\"stroke:#000000; stroke-linecap:round; stroke-linejoin:round; stroke-width:4; stroke-opacity:1; fill:none\" points=\"1088.69,825.305 1087.94,834.267 1085.75,842.806 1082.24,850.953 1077.51,858.739 1071.66,866.196 1064.81,873.355 1057.05,880.247 1048.5,886.904 1039.25,893.358 1029.43,899.638 1019.12,905.778 1008.45,911.808 997.505,917.759 986.405,923.663 975.252,929.552 964.151,935.456 953.21,941.408 942.534,947.438 932.23,953.577 922.403,959.858 913.16,966.311 904.607,972.968 896.85,979.86 889.996,987.019 884.149,994.476 879.417,1002.26 875.906,1010.41 873.721,1018.95 872.969,1027.91 \"/>\n",
       "<polyline clip-path=\"url(#clip152)\" style=\"stroke:#000000; stroke-linecap:round; stroke-linejoin:round; stroke-width:4; stroke-opacity:1; fill:none\" points=\"872.969,1027.91 873.279,1037.98 874.178,1048.18 875.623,1058.5 877.57,1068.94 879.977,1079.47 882.798,1090.1 885.991,1100.81 889.511,1111.6 893.315,1122.44 897.359,1133.34 901.6,1144.29 905.994,1155.27 910.497,1166.27 915.066,1177.29 919.656,1188.31 924.225,1199.32 928.728,1210.33 933.122,1221.31 937.363,1232.25 941.407,1243.15 945.212,1254 948.732,1264.78 951.924,1275.49 954.746,1286.12 957.152,1296.66 959.099,1307.09 960.545,1317.41 961.444,1327.61 961.753,1337.68 \"/>\n",
       "<polyline clip-path=\"url(#clip152)\" style=\"stroke:#000000; stroke-linecap:round; stroke-linejoin:round; stroke-width:4; stroke-opacity:1; fill:none\" points=\"872.969,1027.91 872.235,1037.39 870.102,1046.53 866.673,1055.36 862.052,1063.9 856.343,1072.18 849.649,1080.22 842.074,1088.04 833.722,1095.68 824.696,1103.15 815.1,1110.49 805.038,1117.71 794.613,1124.85 783.929,1131.92 773.089,1138.96 762.197,1145.98 751.358,1153.01 740.674,1160.09 730.249,1167.22 720.186,1174.44 710.59,1181.78 701.565,1189.25 693.212,1196.89 685.638,1204.72 678.944,1212.75 673.235,1221.03 668.614,1229.57 665.185,1238.4 663.051,1247.54 662.317,1257.02 \"/>\n",
       "<polyline clip-path=\"url(#clip152)\" style=\"stroke:#000000; stroke-linecap:round; stroke-linejoin:round; stroke-width:4; stroke-opacity:1; fill:none\" points=\"1247.02,518.873 1247.85,527.442 1250.25,535.442 1254.11,542.914 1259.32,549.901 1265.75,556.446 1273.3,562.589 1281.83,568.375 1291.24,573.844 1301.41,579.038 1312.22,584.001 1323.56,588.774 1335.31,593.4 1347.35,597.92 1359.56,602.376 1371.83,606.812 1384.04,611.269 1396.08,615.789 1407.83,620.414 1419.17,625.187 1429.98,630.15 1440.15,635.345 1449.56,640.814 1458.09,646.599 1465.63,652.743 1472.07,659.287 1477.27,666.274 1481.14,673.747 1483.54,681.746 1484.37,690.315 \"/>\n",
       "<path clip-path=\"url(#clip152)\" d=\"M1481.72 262.317 L1472.19 245.802 L1453.12 245.802 L1443.58 262.317 L1453.12 278.832 L1472.19 278.832 L1481.72 262.317 L1481.72 262.317  Z\" fill=\"#009af9\" fill-rule=\"evenodd\" fill-opacity=\"1\"/>\n",
       "<polyline clip-path=\"url(#clip152)\" style=\"stroke:#000000; stroke-linecap:round; stroke-linejoin:round; stroke-width:4; stroke-opacity:1; fill:none\" points=\"1481.72,262.317 1472.19,245.802 1453.12,245.802 1443.58,262.317 1453.12,278.832 1472.19,278.832 1481.72,262.317 \"/>\n",
       "<path clip-path=\"url(#clip152)\" d=\"M1756.75 531.929 L1747.22 515.414 L1728.15 515.414 L1718.61 531.929 L1728.15 548.444 L1747.22 548.444 L1756.75 531.929 L1756.75 531.929  Z\" fill=\"#009af9\" fill-rule=\"evenodd\" fill-opacity=\"1\"/>\n",
       "<polyline clip-path=\"url(#clip152)\" style=\"stroke:#000000; stroke-linecap:round; stroke-linejoin:round; stroke-width:4; stroke-opacity:1; fill:none\" points=\"1756.75,531.929 1747.22,515.414 1728.15,515.414 1718.61,531.929 1728.15,548.444 1747.22,548.444 1756.75,531.929 \"/>\n",
       "<path clip-path=\"url(#clip152)\" d=\"M1266.09 518.873 L1256.56 502.358 L1237.49 502.358 L1227.95 518.873 L1237.49 535.388 L1256.56 535.388 L1266.09 518.873 L1266.09 518.873  Z\" fill=\"#009af9\" fill-rule=\"evenodd\" fill-opacity=\"1\"/>\n",
       "<polyline clip-path=\"url(#clip152)\" style=\"stroke:#000000; stroke-linecap:round; stroke-linejoin:round; stroke-width:4; stroke-opacity:1; fill:none\" points=\"1266.09,518.873 1256.56,502.358 1237.49,502.358 1227.95,518.873 1237.49,535.388 1256.56,535.388 1266.09,518.873 \"/>\n",
       "<path clip-path=\"url(#clip152)\" d=\"M1107.76 825.305 L1098.22 808.79 L1079.15 808.79 L1069.62 825.305 L1079.15 841.82 L1098.22 841.82 L1107.76 825.305 L1107.76 825.305  Z\" fill=\"#009af9\" fill-rule=\"evenodd\" fill-opacity=\"1\"/>\n",
       "<polyline clip-path=\"url(#clip152)\" style=\"stroke:#000000; stroke-linecap:round; stroke-linejoin:round; stroke-width:4; stroke-opacity:1; fill:none\" points=\"1107.76,825.305 1098.22,808.79 1079.15,808.79 1069.62,825.305 1079.15,841.82 1098.22,841.82 1107.76,825.305 \"/>\n",
       "<path clip-path=\"url(#clip152)\" d=\"M1324.37 1001.31 L1314.84 984.796 L1295.77 984.796 L1286.23 1001.31 L1295.77 1017.83 L1314.84 1017.83 L1324.37 1001.31 L1324.37 1001.31  Z\" fill=\"#009af9\" fill-rule=\"evenodd\" fill-opacity=\"1\"/>\n",
       "<polyline clip-path=\"url(#clip152)\" style=\"stroke:#000000; stroke-linecap:round; stroke-linejoin:round; stroke-width:4; stroke-opacity:1; fill:none\" points=\"1324.37,1001.31 1314.84,984.796 1295.77,984.796 1286.23,1001.31 1295.77,1017.83 1314.84,1017.83 1324.37,1001.31 \"/>\n",
       "<path clip-path=\"url(#clip152)\" d=\"M892.039 1027.91 L882.504 1011.4 L863.434 1011.4 L853.899 1027.91 L863.434 1044.43 L882.504 1044.43 L892.039 1027.91 L892.039 1027.91  Z\" fill=\"#009af9\" fill-rule=\"evenodd\" fill-opacity=\"1\"/>\n",
       "<polyline clip-path=\"url(#clip152)\" style=\"stroke:#000000; stroke-linecap:round; stroke-linejoin:round; stroke-width:4; stroke-opacity:1; fill:none\" points=\"892.039,1027.91 882.504,1011.4 863.434,1011.4 853.899,1027.91 863.434,1044.43 882.504,1044.43 892.039,1027.91 \"/>\n",
       "<path clip-path=\"url(#clip152)\" d=\"M980.823 1337.68 L971.288 1321.17 L952.218 1321.17 L942.683 1337.68 L952.218 1354.2 L971.288 1354.2 L980.823 1337.68 L980.823 1337.68  Z\" fill=\"#009af9\" fill-rule=\"evenodd\" fill-opacity=\"1\"/>\n",
       "<polyline clip-path=\"url(#clip152)\" style=\"stroke:#000000; stroke-linecap:round; stroke-linejoin:round; stroke-width:4; stroke-opacity:1; fill:none\" points=\"980.823,1337.68 971.288,1321.17 952.218,1321.17 942.683,1337.68 952.218,1354.2 971.288,1354.2 980.823,1337.68 \"/>\n",
       "<path clip-path=\"url(#clip152)\" d=\"M681.387 1257.02 L671.852 1240.51 L652.782 1240.51 L643.247 1257.02 L652.782 1273.54 L671.852 1273.54 L681.387 1257.02 L681.387 1257.02  Z\" fill=\"#009af9\" fill-rule=\"evenodd\" fill-opacity=\"1\"/>\n",
       "<polyline clip-path=\"url(#clip152)\" style=\"stroke:#000000; stroke-linecap:round; stroke-linejoin:round; stroke-width:4; stroke-opacity:1; fill:none\" points=\"681.387,1257.02 671.852,1240.51 652.782,1240.51 643.247,1257.02 652.782,1273.54 671.852,1273.54 681.387,1257.02 \"/>\n",
       "<path clip-path=\"url(#clip152)\" d=\"M1503.44 690.315 L1493.9 673.8 L1474.83 673.8 L1465.3 690.315 L1474.83 706.83 L1493.9 706.83 L1503.44 690.315 L1503.44 690.315  Z\" fill=\"#009af9\" fill-rule=\"evenodd\" fill-opacity=\"1\"/>\n",
       "<polyline clip-path=\"url(#clip152)\" style=\"stroke:#000000; stroke-linecap:round; stroke-linejoin:round; stroke-width:4; stroke-opacity:1; fill:none\" points=\"1503.44,690.315 1493.9,673.8 1474.83,673.8 1465.3,690.315 1474.83,706.83 1493.9,706.83 1503.44,690.315 \"/>\n",
       "<path clip-path=\"url(#clip152)\" d=\"M1462.65 262.717 L1462.31 262.517 L1462.31 262.117 L1462.65 261.917 L1463 262.117 L1463 262.517 Z\" fill=\"#009af9\" fill-rule=\"evenodd\" fill-opacity=\"1\" stroke=\"#000000\" stroke-opacity=\"1\" stroke-width=\"3.2\"/>\n",
       "<path clip-path=\"url(#clip152)\" d=\"M1737.68 532.329 L1737.34 532.129 L1737.34 531.729 L1737.68 531.529 L1738.03 531.729 L1738.03 532.129 Z\" fill=\"#009af9\" fill-rule=\"evenodd\" fill-opacity=\"1\" stroke=\"#000000\" stroke-opacity=\"1\" stroke-width=\"3.2\"/>\n",
       "<path clip-path=\"url(#clip152)\" d=\"M1247.02 519.273 L1246.67 519.073 L1246.67 518.673 L1247.02 518.473 L1247.37 518.673 L1247.37 519.073 Z\" fill=\"#009af9\" fill-rule=\"evenodd\" fill-opacity=\"1\" stroke=\"#000000\" stroke-opacity=\"1\" stroke-width=\"3.2\"/>\n",
       "<path clip-path=\"url(#clip152)\" d=\"M1088.69 825.705 L1088.34 825.505 L1088.34 825.105 L1088.69 824.905 L1089.03 825.105 L1089.03 825.505 Z\" fill=\"#009af9\" fill-rule=\"evenodd\" fill-opacity=\"1\" stroke=\"#000000\" stroke-opacity=\"1\" stroke-width=\"3.2\"/>\n",
       "<path clip-path=\"url(#clip152)\" d=\"M1305.3 1001.71 L1304.95 1001.51 L1304.95 1001.11 L1305.3 1000.91 L1305.65 1001.11 L1305.65 1001.51 Z\" fill=\"#009af9\" fill-rule=\"evenodd\" fill-opacity=\"1\" stroke=\"#000000\" stroke-opacity=\"1\" stroke-width=\"3.2\"/>\n",
       "<path clip-path=\"url(#clip152)\" d=\"M872.969 1028.31 L872.623 1028.11 L872.623 1027.71 L872.969 1027.51 L873.316 1027.71 L873.316 1028.11 Z\" fill=\"#009af9\" fill-rule=\"evenodd\" fill-opacity=\"1\" stroke=\"#000000\" stroke-opacity=\"1\" stroke-width=\"3.2\"/>\n",
       "<path clip-path=\"url(#clip152)\" d=\"M961.753 1338.08 L961.407 1337.88 L961.407 1337.48 L961.753 1337.28 L962.1 1337.48 L962.1 1337.88 Z\" fill=\"#009af9\" fill-rule=\"evenodd\" fill-opacity=\"1\" stroke=\"#000000\" stroke-opacity=\"1\" stroke-width=\"3.2\"/>\n",
       "<path clip-path=\"url(#clip152)\" d=\"M662.317 1257.42 L661.971 1257.22 L661.971 1256.82 L662.317 1256.62 L662.664 1256.82 L662.664 1257.22 Z\" fill=\"#009af9\" fill-rule=\"evenodd\" fill-opacity=\"1\" stroke=\"#000000\" stroke-opacity=\"1\" stroke-width=\"3.2\"/>\n",
       "<path clip-path=\"url(#clip152)\" d=\"M1484.37 690.715 L1484.02 690.515 L1484.02 690.115 L1484.37 689.915 L1484.71 690.115 L1484.71 690.515 Z\" fill=\"#009af9\" fill-rule=\"evenodd\" fill-opacity=\"1\" stroke=\"#000000\" stroke-opacity=\"1\" stroke-width=\"3.2\"/>\n",
       "<path clip-path=\"url(#clip150)\" d=\"M1454.24 273.994 L1460.92 273.994 L1460.92 250.924 L1453.65 252.382 L1453.65 248.656 L1460.88 247.197 L1464.97 247.197 L1464.97 273.994 L1471.66 273.994 L1471.66 277.437 L1454.24 277.437 L1454.24 273.994 Z\" fill=\"#000000\" fill-rule=\"nonzero\" fill-opacity=\"1\" /><path clip-path=\"url(#clip150)\" d=\"M1733 543.605 L1747.28 543.605 L1747.28 547.049 L1728.08 547.049 L1728.08 543.605 Q1730.41 541.195 1734.42 537.144 Q1738.45 533.073 1739.49 531.898 Q1741.45 529.691 1742.22 528.172 Q1743.01 526.632 1743.01 525.154 Q1743.01 522.743 1741.31 521.224 Q1739.63 519.705 1736.91 519.705 Q1734.99 519.705 1732.84 520.374 Q1730.72 521.042 1728.28 522.399 L1728.28 518.267 Q1730.76 517.275 1732.9 516.768 Q1735.05 516.262 1736.83 516.262 Q1741.53 516.262 1744.33 518.611 Q1747.12 520.961 1747.12 524.89 Q1747.12 526.754 1746.41 528.435 Q1745.72 530.096 1743.88 532.364 Q1743.37 532.952 1740.66 535.767 Q1737.95 538.562 1733 543.605 Z\" fill=\"#000000\" fill-rule=\"nonzero\" fill-opacity=\"1\" /><path clip-path=\"url(#clip150)\" d=\"M1250.74 517.688 Q1253.67 518.316 1255.31 520.301 Q1256.98 522.286 1256.98 525.203 Q1256.98 529.679 1253.9 532.13 Q1250.82 534.581 1245.15 534.581 Q1243.24 534.581 1241.22 534.196 Q1239.21 533.831 1237.07 533.082 L1237.07 529.132 Q1238.77 530.125 1240.79 530.631 Q1242.82 531.137 1245.03 531.137 Q1248.87 531.137 1250.88 529.618 Q1252.9 528.099 1252.9 525.203 Q1252.9 522.529 1251.02 521.03 Q1249.16 519.511 1245.82 519.511 L1242.29 519.511 L1242.29 516.149 L1245.98 516.149 Q1248.99 516.149 1250.6 514.954 Q1252.2 513.739 1252.2 511.47 Q1252.2 509.141 1250.53 507.905 Q1248.89 506.65 1245.82 506.65 Q1244.13 506.65 1242.21 507.014 Q1240.29 507.379 1237.98 508.148 L1237.98 504.503 Q1240.31 503.854 1242.33 503.53 Q1244.38 503.206 1246.18 503.206 Q1250.84 503.206 1253.55 505.333 Q1256.27 507.439 1256.27 511.045 Q1256.27 513.556 1254.83 515.298 Q1253.39 517.02 1250.74 517.688 Z\" fill=\"#000000\" fill-rule=\"nonzero\" fill-opacity=\"1\" /><path clip-path=\"url(#clip150)\" d=\"M1091.32 813.75 L1080.99 829.893 L1091.32 829.893 L1091.32 813.75 M1090.25 810.185 L1095.39 810.185 L1095.39 829.893 L1099.71 829.893 L1099.71 833.295 L1095.39 833.295 L1095.39 840.425 L1091.32 840.425 L1091.32 833.295 L1077.67 833.295 L1077.67 829.346 L1090.25 810.185 Z\" fill=\"#000000\" fill-rule=\"nonzero\" fill-opacity=\"1\" /><path clip-path=\"url(#clip150)\" d=\"M1296.79 986.191 L1312.86 986.191 L1312.86 989.634 L1300.54 989.634 L1300.54 997.047 Q1301.43 996.743 1302.32 996.602 Q1303.21 996.439 1304.11 996.439 Q1309.17 996.439 1312.13 999.214 Q1315.08 1001.99 1315.08 1006.73 Q1315.08 1011.61 1312.05 1014.32 Q1309.01 1017.02 1303.48 1017.02 Q1301.57 1017.02 1299.59 1016.69 Q1297.62 1016.37 1295.52 1015.72 L1295.52 1011.61 Q1297.34 1012.6 1299.28 1013.09 Q1301.23 1013.57 1303.4 1013.57 Q1306.9 1013.57 1308.95 1011.73 Q1310.99 1009.89 1310.99 1006.73 Q1310.99 1003.57 1308.95 1001.73 Q1306.9 999.883 1303.4 999.883 Q1301.76 999.883 1300.12 1000.25 Q1298.49 1000.61 1296.79 1001.38 L1296.79 986.191 Z\" fill=\"#000000\" fill-rule=\"nonzero\" fill-opacity=\"1\" /><path clip-path=\"url(#clip150)\" d=\"M873.324 1026.28 Q870.569 1026.28 868.949 1028.16 Q867.348 1030.05 867.348 1033.33 Q867.348 1036.59 868.949 1038.49 Q870.569 1040.38 873.324 1040.38 Q876.078 1040.38 877.678 1038.49 Q879.299 1036.59 879.299 1033.33 Q879.299 1030.05 877.678 1028.16 Q876.078 1026.28 873.324 1026.28 M881.446 1013.46 L881.446 1017.19 Q879.906 1016.46 878.326 1016.07 Q876.767 1015.69 875.227 1015.69 Q871.177 1015.69 869.03 1018.42 Q866.903 1021.16 866.599 1026.68 Q867.794 1024.92 869.597 1023.99 Q871.399 1023.04 873.567 1023.04 Q878.124 1023.04 880.757 1025.81 Q883.41 1028.57 883.41 1033.33 Q883.41 1037.99 880.656 1040.8 Q877.901 1043.62 873.324 1043.62 Q868.078 1043.62 865.303 1039.61 Q862.528 1035.58 862.528 1027.94 Q862.528 1020.77 865.931 1016.52 Q869.333 1012.24 875.065 1012.24 Q876.605 1012.24 878.164 1012.55 Q879.744 1012.85 881.446 1013.46 Z\" fill=\"#000000\" fill-rule=\"nonzero\" fill-opacity=\"1\" /><path clip-path=\"url(#clip150)\" d=\"M952.031 1322.56 L971.475 1322.56 L971.475 1324.3 L960.497 1352.8 L956.224 1352.8 L966.554 1326.01 L952.031 1326.01 L952.031 1322.56 Z\" fill=\"#000000\" fill-rule=\"nonzero\" fill-opacity=\"1\" /><path clip-path=\"url(#clip150)\" d=\"M662.317 1257.78 Q659.401 1257.78 657.719 1259.34 Q656.059 1260.9 656.059 1263.64 Q656.059 1266.37 657.719 1267.93 Q659.401 1269.49 662.317 1269.49 Q665.234 1269.49 666.915 1267.93 Q668.596 1266.35 668.596 1263.64 Q668.596 1260.9 666.915 1259.34 Q665.254 1257.78 662.317 1257.78 M658.226 1256.04 Q655.593 1255.39 654.114 1253.59 Q652.656 1251.79 652.656 1249.2 Q652.656 1245.57 655.228 1243.46 Q657.821 1241.36 662.317 1241.36 Q666.834 1241.36 669.406 1243.46 Q671.979 1245.57 671.979 1249.2 Q671.979 1251.79 670.5 1253.59 Q669.042 1255.39 666.429 1256.04 Q669.386 1256.73 671.027 1258.74 Q672.688 1260.74 672.688 1263.64 Q672.688 1268.03 669.994 1270.38 Q667.32 1272.73 662.317 1272.73 Q657.314 1272.73 654.62 1270.38 Q651.947 1268.03 651.947 1263.64 Q651.947 1260.74 653.608 1258.74 Q655.269 1256.73 658.226 1256.04 M656.727 1249.58 Q656.727 1251.93 658.185 1253.25 Q659.664 1254.56 662.317 1254.56 Q664.95 1254.56 666.429 1253.25 Q667.928 1251.93 667.928 1249.58 Q667.928 1247.23 666.429 1245.91 Q664.95 1244.6 662.317 1244.6 Q659.664 1244.6 658.185 1245.91 Q656.727 1247.23 656.727 1249.58 Z\" fill=\"#000000\" fill-rule=\"nonzero\" fill-opacity=\"1\" /><path clip-path=\"url(#clip150)\" d=\"M1475.88 704.807 L1475.88 701.081 Q1477.42 701.81 1479 702.195 Q1480.58 702.579 1482.1 702.579 Q1486.15 702.579 1488.28 699.865 Q1490.42 697.131 1490.73 691.581 Q1489.55 693.323 1487.75 694.255 Q1485.95 695.186 1483.76 695.186 Q1479.22 695.186 1476.57 692.452 Q1473.94 689.697 1473.94 684.938 Q1473.94 680.279 1476.69 677.464 Q1479.45 674.648 1484.02 674.648 Q1489.27 674.648 1492.02 678.679 Q1494.8 682.689 1494.8 690.346 Q1494.8 697.495 1491.4 701.769 Q1488.01 706.023 1482.28 706.023 Q1480.74 706.023 1479.16 705.719 Q1477.58 705.415 1475.88 704.807 M1484.02 691.986 Q1486.78 691.986 1488.38 690.103 Q1490 688.219 1490 684.938 Q1490 681.677 1488.38 679.793 Q1486.78 677.889 1484.02 677.889 Q1481.27 677.889 1479.65 679.793 Q1478.05 681.677 1478.05 684.938 Q1478.05 688.219 1479.65 690.103 Q1481.27 691.986 1484.02 691.986 Z\" fill=\"#000000\" fill-rule=\"nonzero\" fill-opacity=\"1\" /></svg>\n"
      ],
      "text/html": [
       "<?xml version=\"1.0\" encoding=\"utf-8\"?>\n",
       "<svg xmlns=\"http://www.w3.org/2000/svg\" xmlns:xlink=\"http://www.w3.org/1999/xlink\" width=\"600\" height=\"400\" viewBox=\"0 0 2400 1600\">\n",
       "<defs>\n",
       "  <clipPath id=\"clip180\">\n",
       "    <rect x=\"0\" y=\"0\" width=\"2400\" height=\"1600\"/>\n",
       "  </clipPath>\n",
       "</defs>\n",
       "<path clip-path=\"url(#clip180)\" d=\"M0 1600 L2400 1600 L2400 0 L0 0  Z\" fill=\"#ffffff\" fill-rule=\"evenodd\" fill-opacity=\"1\"/>\n",
       "<defs>\n",
       "  <clipPath id=\"clip181\">\n",
       "    <rect x=\"480\" y=\"0\" width=\"1681\" height=\"1600\"/>\n",
       "  </clipPath>\n",
       "</defs>\n",
       "<path clip-path=\"url(#clip180)\" d=\"M447.244 1552.76 L1952.76 1552.76 L1952.76 47.2441 L447.244 47.2441  Z\" fill=\"#ffffff\" fill-rule=\"evenodd\" fill-opacity=\"1\"/>\n",
       "<defs>\n",
       "  <clipPath id=\"clip182\">\n",
       "    <rect x=\"447\" y=\"47\" width=\"1507\" height=\"1507\"/>\n",
       "  </clipPath>\n",
       "</defs>\n",
       "<polyline clip-path=\"url(#clip182)\" style=\"stroke:#000000; stroke-linecap:round; stroke-linejoin:round; stroke-width:4; stroke-opacity:1; fill:none\" points=\"1462.65,262.317 1463.61,274.001 1466.4,285.174 1470.88,295.873 1476.91,306.136 1484.36,316.001 1493.1,325.507 1502.99,334.69 1513.9,343.589 1525.68,352.242 1538.21,360.686 1551.35,368.96 1564.96,377.101 1578.91,385.148 1593.06,393.138 1607.28,401.108 1621.43,409.098 1635.38,417.145 1648.99,425.286 1662.13,433.56 1674.66,442.004 1686.44,450.657 1697.35,459.556 1707.24,468.739 1715.98,478.245 1723.43,488.11 1729.46,498.373 1733.94,509.072 1736.72,520.245 1737.68,531.929 \"/>\n",
       "<polyline clip-path=\"url(#clip182)\" style=\"stroke:#000000; stroke-linecap:round; stroke-linejoin:round; stroke-width:4; stroke-opacity:1; fill:none\" points=\"1462.65,262.317 1461.9,272.561 1459.72,282.505 1456.21,292.173 1451.48,301.585 1445.63,310.764 1438.78,319.733 1431.03,328.513 1422.48,337.127 1413.24,345.597 1403.42,353.945 1393.12,362.193 1382.44,370.363 1371.51,378.478 1360.41,386.56 1349.26,394.63 1338.17,402.712 1327.23,410.827 1316.56,418.998 1306.26,427.246 1296.44,435.593 1287.2,444.063 1278.65,452.677 1270.89,461.457 1264.04,470.426 1258.2,479.605 1253.47,489.018 1249.96,498.685 1247.77,508.629 1247.02,518.873 \"/>\n",
       "<polyline clip-path=\"url(#clip182)\" style=\"stroke:#000000; stroke-linecap:round; stroke-linejoin:round; stroke-width:4; stroke-opacity:1; fill:none\" points=\"1247.02,518.873 1246.47,529.564 1244.86,540.228 1242.29,550.867 1238.81,561.484 1234.52,572.08 1229.49,582.657 1223.8,593.218 1217.52,603.764 1210.74,614.297 1203.52,624.819 1195.96,635.333 1188.13,645.84 1180.09,656.341 1171.95,666.84 1163.76,677.338 1155.61,687.837 1147.58,698.339 1139.75,708.845 1132.18,719.359 1124.97,729.881 1118.19,740.414 1111.91,750.96 1106.22,761.521 1101.18,772.098 1096.89,782.695 1093.42,793.311 1090.84,803.951 1089.24,814.615 1088.69,825.305 \"/>\n",
       "<polyline clip-path=\"url(#clip182)\" style=\"stroke:#000000; stroke-linecap:round; stroke-linejoin:round; stroke-width:4; stroke-opacity:1; fill:none\" points=\"1088.69,825.305 1089.44,833.705 1091.64,841.605 1095.16,849.043 1099.91,856.056 1105.78,862.68 1112.67,868.952 1120.46,874.911 1129.05,880.591 1138.33,886.032 1148.19,891.268 1158.54,896.339 1169.26,901.279 1180.25,906.128 1191.39,910.921 1202.59,915.695 1213.74,920.488 1224.73,925.336 1235.45,930.277 1245.79,935.347 1255.66,940.584 1264.94,946.024 1273.53,951.705 1281.32,957.663 1288.2,963.936 1294.07,970.56 1298.83,977.573 1302.35,985.011 1304.55,992.911 1305.3,1001.31 \"/>\n",
       "<polyline clip-path=\"url(#clip182)\" style=\"stroke:#000000; stroke-linecap:round; stroke-linejoin:round; stroke-width:4; stroke-opacity:1; fill:none\" points=\"1088.69,825.305 1087.94,834.267 1085.75,842.806 1082.24,850.953 1077.51,858.739 1071.66,866.196 1064.81,873.355 1057.05,880.247 1048.5,886.904 1039.25,893.358 1029.43,899.638 1019.12,905.778 1008.45,911.808 997.505,917.759 986.405,923.663 975.252,929.552 964.151,935.456 953.21,941.408 942.534,947.438 932.23,953.577 922.403,959.858 913.16,966.311 904.607,972.968 896.85,979.86 889.996,987.019 884.149,994.476 879.417,1002.26 875.906,1010.41 873.721,1018.95 872.969,1027.91 \"/>\n",
       "<polyline clip-path=\"url(#clip182)\" style=\"stroke:#000000; stroke-linecap:round; stroke-linejoin:round; stroke-width:4; stroke-opacity:1; fill:none\" points=\"872.969,1027.91 873.279,1037.98 874.178,1048.18 875.623,1058.5 877.57,1068.94 879.977,1079.47 882.798,1090.1 885.991,1100.81 889.511,1111.6 893.315,1122.44 897.359,1133.34 901.6,1144.29 905.994,1155.27 910.497,1166.27 915.066,1177.29 919.656,1188.31 924.225,1199.32 928.728,1210.33 933.122,1221.31 937.363,1232.25 941.407,1243.15 945.212,1254 948.732,1264.78 951.924,1275.49 954.746,1286.12 957.152,1296.66 959.099,1307.09 960.545,1317.41 961.444,1327.61 961.753,1337.68 \"/>\n",
       "<polyline clip-path=\"url(#clip182)\" style=\"stroke:#000000; stroke-linecap:round; stroke-linejoin:round; stroke-width:4; stroke-opacity:1; fill:none\" points=\"872.969,1027.91 872.235,1037.39 870.102,1046.53 866.673,1055.36 862.052,1063.9 856.343,1072.18 849.649,1080.22 842.074,1088.04 833.722,1095.68 824.696,1103.15 815.1,1110.49 805.038,1117.71 794.613,1124.85 783.929,1131.92 773.089,1138.96 762.197,1145.98 751.358,1153.01 740.674,1160.09 730.249,1167.22 720.186,1174.44 710.59,1181.78 701.565,1189.25 693.212,1196.89 685.638,1204.72 678.944,1212.75 673.235,1221.03 668.614,1229.57 665.185,1238.4 663.051,1247.54 662.317,1257.02 \"/>\n",
       "<polyline clip-path=\"url(#clip182)\" style=\"stroke:#000000; stroke-linecap:round; stroke-linejoin:round; stroke-width:4; stroke-opacity:1; fill:none\" points=\"1247.02,518.873 1247.85,527.442 1250.25,535.442 1254.11,542.914 1259.32,549.901 1265.75,556.446 1273.3,562.589 1281.83,568.375 1291.24,573.844 1301.41,579.038 1312.22,584.001 1323.56,588.774 1335.31,593.4 1347.35,597.92 1359.56,602.376 1371.83,606.812 1384.04,611.269 1396.08,615.789 1407.83,620.414 1419.17,625.187 1429.98,630.15 1440.15,635.345 1449.56,640.814 1458.09,646.599 1465.63,652.743 1472.07,659.287 1477.27,666.274 1481.14,673.747 1483.54,681.746 1484.37,690.315 \"/>\n",
       "<path clip-path=\"url(#clip182)\" d=\"M1481.72 262.317 L1472.19 245.802 L1453.12 245.802 L1443.58 262.317 L1453.12 278.832 L1472.19 278.832 L1481.72 262.317 L1481.72 262.317  Z\" fill=\"#009af9\" fill-rule=\"evenodd\" fill-opacity=\"1\"/>\n",
       "<polyline clip-path=\"url(#clip182)\" style=\"stroke:#000000; stroke-linecap:round; stroke-linejoin:round; stroke-width:4; stroke-opacity:1; fill:none\" points=\"1481.72,262.317 1472.19,245.802 1453.12,245.802 1443.58,262.317 1453.12,278.832 1472.19,278.832 1481.72,262.317 \"/>\n",
       "<path clip-path=\"url(#clip182)\" d=\"M1756.75 531.929 L1747.22 515.414 L1728.15 515.414 L1718.61 531.929 L1728.15 548.444 L1747.22 548.444 L1756.75 531.929 L1756.75 531.929  Z\" fill=\"#009af9\" fill-rule=\"evenodd\" fill-opacity=\"1\"/>\n",
       "<polyline clip-path=\"url(#clip182)\" style=\"stroke:#000000; stroke-linecap:round; stroke-linejoin:round; stroke-width:4; stroke-opacity:1; fill:none\" points=\"1756.75,531.929 1747.22,515.414 1728.15,515.414 1718.61,531.929 1728.15,548.444 1747.22,548.444 1756.75,531.929 \"/>\n",
       "<path clip-path=\"url(#clip182)\" d=\"M1266.09 518.873 L1256.56 502.358 L1237.49 502.358 L1227.95 518.873 L1237.49 535.388 L1256.56 535.388 L1266.09 518.873 L1266.09 518.873  Z\" fill=\"#009af9\" fill-rule=\"evenodd\" fill-opacity=\"1\"/>\n",
       "<polyline clip-path=\"url(#clip182)\" style=\"stroke:#000000; stroke-linecap:round; stroke-linejoin:round; stroke-width:4; stroke-opacity:1; fill:none\" points=\"1266.09,518.873 1256.56,502.358 1237.49,502.358 1227.95,518.873 1237.49,535.388 1256.56,535.388 1266.09,518.873 \"/>\n",
       "<path clip-path=\"url(#clip182)\" d=\"M1107.76 825.305 L1098.22 808.79 L1079.15 808.79 L1069.62 825.305 L1079.15 841.82 L1098.22 841.82 L1107.76 825.305 L1107.76 825.305  Z\" fill=\"#009af9\" fill-rule=\"evenodd\" fill-opacity=\"1\"/>\n",
       "<polyline clip-path=\"url(#clip182)\" style=\"stroke:#000000; stroke-linecap:round; stroke-linejoin:round; stroke-width:4; stroke-opacity:1; fill:none\" points=\"1107.76,825.305 1098.22,808.79 1079.15,808.79 1069.62,825.305 1079.15,841.82 1098.22,841.82 1107.76,825.305 \"/>\n",
       "<path clip-path=\"url(#clip182)\" d=\"M1324.37 1001.31 L1314.84 984.796 L1295.77 984.796 L1286.23 1001.31 L1295.77 1017.83 L1314.84 1017.83 L1324.37 1001.31 L1324.37 1001.31  Z\" fill=\"#009af9\" fill-rule=\"evenodd\" fill-opacity=\"1\"/>\n",
       "<polyline clip-path=\"url(#clip182)\" style=\"stroke:#000000; stroke-linecap:round; stroke-linejoin:round; stroke-width:4; stroke-opacity:1; fill:none\" points=\"1324.37,1001.31 1314.84,984.796 1295.77,984.796 1286.23,1001.31 1295.77,1017.83 1314.84,1017.83 1324.37,1001.31 \"/>\n",
       "<path clip-path=\"url(#clip182)\" d=\"M892.039 1027.91 L882.504 1011.4 L863.434 1011.4 L853.899 1027.91 L863.434 1044.43 L882.504 1044.43 L892.039 1027.91 L892.039 1027.91  Z\" fill=\"#009af9\" fill-rule=\"evenodd\" fill-opacity=\"1\"/>\n",
       "<polyline clip-path=\"url(#clip182)\" style=\"stroke:#000000; stroke-linecap:round; stroke-linejoin:round; stroke-width:4; stroke-opacity:1; fill:none\" points=\"892.039,1027.91 882.504,1011.4 863.434,1011.4 853.899,1027.91 863.434,1044.43 882.504,1044.43 892.039,1027.91 \"/>\n",
       "<path clip-path=\"url(#clip182)\" d=\"M980.823 1337.68 L971.288 1321.17 L952.218 1321.17 L942.683 1337.68 L952.218 1354.2 L971.288 1354.2 L980.823 1337.68 L980.823 1337.68  Z\" fill=\"#009af9\" fill-rule=\"evenodd\" fill-opacity=\"1\"/>\n",
       "<polyline clip-path=\"url(#clip182)\" style=\"stroke:#000000; stroke-linecap:round; stroke-linejoin:round; stroke-width:4; stroke-opacity:1; fill:none\" points=\"980.823,1337.68 971.288,1321.17 952.218,1321.17 942.683,1337.68 952.218,1354.2 971.288,1354.2 980.823,1337.68 \"/>\n",
       "<path clip-path=\"url(#clip182)\" d=\"M681.387 1257.02 L671.852 1240.51 L652.782 1240.51 L643.247 1257.02 L652.782 1273.54 L671.852 1273.54 L681.387 1257.02 L681.387 1257.02  Z\" fill=\"#009af9\" fill-rule=\"evenodd\" fill-opacity=\"1\"/>\n",
       "<polyline clip-path=\"url(#clip182)\" style=\"stroke:#000000; stroke-linecap:round; stroke-linejoin:round; stroke-width:4; stroke-opacity:1; fill:none\" points=\"681.387,1257.02 671.852,1240.51 652.782,1240.51 643.247,1257.02 652.782,1273.54 671.852,1273.54 681.387,1257.02 \"/>\n",
       "<path clip-path=\"url(#clip182)\" d=\"M1503.44 690.315 L1493.9 673.8 L1474.83 673.8 L1465.3 690.315 L1474.83 706.83 L1493.9 706.83 L1503.44 690.315 L1503.44 690.315  Z\" fill=\"#009af9\" fill-rule=\"evenodd\" fill-opacity=\"1\"/>\n",
       "<polyline clip-path=\"url(#clip182)\" style=\"stroke:#000000; stroke-linecap:round; stroke-linejoin:round; stroke-width:4; stroke-opacity:1; fill:none\" points=\"1503.44,690.315 1493.9,673.8 1474.83,673.8 1465.3,690.315 1474.83,706.83 1493.9,706.83 1503.44,690.315 \"/>\n",
       "<path clip-path=\"url(#clip182)\" d=\"M1462.65 262.717 L1462.31 262.517 L1462.31 262.117 L1462.65 261.917 L1463 262.117 L1463 262.517 Z\" fill=\"#009af9\" fill-rule=\"evenodd\" fill-opacity=\"1\" stroke=\"#000000\" stroke-opacity=\"1\" stroke-width=\"3.2\"/>\n",
       "<path clip-path=\"url(#clip182)\" d=\"M1737.68 532.329 L1737.34 532.129 L1737.34 531.729 L1737.68 531.529 L1738.03 531.729 L1738.03 532.129 Z\" fill=\"#009af9\" fill-rule=\"evenodd\" fill-opacity=\"1\" stroke=\"#000000\" stroke-opacity=\"1\" stroke-width=\"3.2\"/>\n",
       "<path clip-path=\"url(#clip182)\" d=\"M1247.02 519.273 L1246.67 519.073 L1246.67 518.673 L1247.02 518.473 L1247.37 518.673 L1247.37 519.073 Z\" fill=\"#009af9\" fill-rule=\"evenodd\" fill-opacity=\"1\" stroke=\"#000000\" stroke-opacity=\"1\" stroke-width=\"3.2\"/>\n",
       "<path clip-path=\"url(#clip182)\" d=\"M1088.69 825.705 L1088.34 825.505 L1088.34 825.105 L1088.69 824.905 L1089.03 825.105 L1089.03 825.505 Z\" fill=\"#009af9\" fill-rule=\"evenodd\" fill-opacity=\"1\" stroke=\"#000000\" stroke-opacity=\"1\" stroke-width=\"3.2\"/>\n",
       "<path clip-path=\"url(#clip182)\" d=\"M1305.3 1001.71 L1304.95 1001.51 L1304.95 1001.11 L1305.3 1000.91 L1305.65 1001.11 L1305.65 1001.51 Z\" fill=\"#009af9\" fill-rule=\"evenodd\" fill-opacity=\"1\" stroke=\"#000000\" stroke-opacity=\"1\" stroke-width=\"3.2\"/>\n",
       "<path clip-path=\"url(#clip182)\" d=\"M872.969 1028.31 L872.623 1028.11 L872.623 1027.71 L872.969 1027.51 L873.316 1027.71 L873.316 1028.11 Z\" fill=\"#009af9\" fill-rule=\"evenodd\" fill-opacity=\"1\" stroke=\"#000000\" stroke-opacity=\"1\" stroke-width=\"3.2\"/>\n",
       "<path clip-path=\"url(#clip182)\" d=\"M961.753 1338.08 L961.407 1337.88 L961.407 1337.48 L961.753 1337.28 L962.1 1337.48 L962.1 1337.88 Z\" fill=\"#009af9\" fill-rule=\"evenodd\" fill-opacity=\"1\" stroke=\"#000000\" stroke-opacity=\"1\" stroke-width=\"3.2\"/>\n",
       "<path clip-path=\"url(#clip182)\" d=\"M662.317 1257.42 L661.971 1257.22 L661.971 1256.82 L662.317 1256.62 L662.664 1256.82 L662.664 1257.22 Z\" fill=\"#009af9\" fill-rule=\"evenodd\" fill-opacity=\"1\" stroke=\"#000000\" stroke-opacity=\"1\" stroke-width=\"3.2\"/>\n",
       "<path clip-path=\"url(#clip182)\" d=\"M1484.37 690.715 L1484.02 690.515 L1484.02 690.115 L1484.37 689.915 L1484.71 690.115 L1484.71 690.515 Z\" fill=\"#009af9\" fill-rule=\"evenodd\" fill-opacity=\"1\" stroke=\"#000000\" stroke-opacity=\"1\" stroke-width=\"3.2\"/>\n",
       "<path clip-path=\"url(#clip180)\" d=\"M1454.24 273.994 L1460.92 273.994 L1460.92 250.924 L1453.65 252.382 L1453.65 248.656 L1460.88 247.197 L1464.97 247.197 L1464.97 273.994 L1471.66 273.994 L1471.66 277.437 L1454.24 277.437 L1454.24 273.994 Z\" fill=\"#000000\" fill-rule=\"nonzero\" fill-opacity=\"1\" /><path clip-path=\"url(#clip180)\" d=\"M1733 543.605 L1747.28 543.605 L1747.28 547.049 L1728.08 547.049 L1728.08 543.605 Q1730.41 541.195 1734.42 537.144 Q1738.45 533.073 1739.49 531.898 Q1741.45 529.691 1742.22 528.172 Q1743.01 526.632 1743.01 525.154 Q1743.01 522.743 1741.31 521.224 Q1739.63 519.705 1736.91 519.705 Q1734.99 519.705 1732.84 520.374 Q1730.72 521.042 1728.28 522.399 L1728.28 518.267 Q1730.76 517.275 1732.9 516.768 Q1735.05 516.262 1736.83 516.262 Q1741.53 516.262 1744.33 518.611 Q1747.12 520.961 1747.12 524.89 Q1747.12 526.754 1746.41 528.435 Q1745.72 530.096 1743.88 532.364 Q1743.37 532.952 1740.66 535.767 Q1737.95 538.562 1733 543.605 Z\" fill=\"#000000\" fill-rule=\"nonzero\" fill-opacity=\"1\" /><path clip-path=\"url(#clip180)\" d=\"M1250.74 517.688 Q1253.67 518.316 1255.31 520.301 Q1256.98 522.286 1256.98 525.203 Q1256.98 529.679 1253.9 532.13 Q1250.82 534.581 1245.15 534.581 Q1243.24 534.581 1241.22 534.196 Q1239.21 533.831 1237.07 533.082 L1237.07 529.132 Q1238.77 530.125 1240.79 530.631 Q1242.82 531.137 1245.03 531.137 Q1248.87 531.137 1250.88 529.618 Q1252.9 528.099 1252.9 525.203 Q1252.9 522.529 1251.02 521.03 Q1249.16 519.511 1245.82 519.511 L1242.29 519.511 L1242.29 516.149 L1245.98 516.149 Q1248.99 516.149 1250.6 514.954 Q1252.2 513.739 1252.2 511.47 Q1252.2 509.141 1250.53 507.905 Q1248.89 506.65 1245.82 506.65 Q1244.13 506.65 1242.21 507.014 Q1240.29 507.379 1237.98 508.148 L1237.98 504.503 Q1240.31 503.854 1242.33 503.53 Q1244.38 503.206 1246.18 503.206 Q1250.84 503.206 1253.55 505.333 Q1256.27 507.439 1256.27 511.045 Q1256.27 513.556 1254.83 515.298 Q1253.39 517.02 1250.74 517.688 Z\" fill=\"#000000\" fill-rule=\"nonzero\" fill-opacity=\"1\" /><path clip-path=\"url(#clip180)\" d=\"M1091.32 813.75 L1080.99 829.893 L1091.32 829.893 L1091.32 813.75 M1090.25 810.185 L1095.39 810.185 L1095.39 829.893 L1099.71 829.893 L1099.71 833.295 L1095.39 833.295 L1095.39 840.425 L1091.32 840.425 L1091.32 833.295 L1077.67 833.295 L1077.67 829.346 L1090.25 810.185 Z\" fill=\"#000000\" fill-rule=\"nonzero\" fill-opacity=\"1\" /><path clip-path=\"url(#clip180)\" d=\"M1296.79 986.191 L1312.86 986.191 L1312.86 989.634 L1300.54 989.634 L1300.54 997.047 Q1301.43 996.743 1302.32 996.602 Q1303.21 996.439 1304.11 996.439 Q1309.17 996.439 1312.13 999.214 Q1315.08 1001.99 1315.08 1006.73 Q1315.08 1011.61 1312.05 1014.32 Q1309.01 1017.02 1303.48 1017.02 Q1301.57 1017.02 1299.59 1016.69 Q1297.62 1016.37 1295.52 1015.72 L1295.52 1011.61 Q1297.34 1012.6 1299.28 1013.09 Q1301.23 1013.57 1303.4 1013.57 Q1306.9 1013.57 1308.95 1011.73 Q1310.99 1009.89 1310.99 1006.73 Q1310.99 1003.57 1308.95 1001.73 Q1306.9 999.883 1303.4 999.883 Q1301.76 999.883 1300.12 1000.25 Q1298.49 1000.61 1296.79 1001.38 L1296.79 986.191 Z\" fill=\"#000000\" fill-rule=\"nonzero\" fill-opacity=\"1\" /><path clip-path=\"url(#clip180)\" d=\"M873.324 1026.28 Q870.569 1026.28 868.949 1028.16 Q867.348 1030.05 867.348 1033.33 Q867.348 1036.59 868.949 1038.49 Q870.569 1040.38 873.324 1040.38 Q876.078 1040.38 877.678 1038.49 Q879.299 1036.59 879.299 1033.33 Q879.299 1030.05 877.678 1028.16 Q876.078 1026.28 873.324 1026.28 M881.446 1013.46 L881.446 1017.19 Q879.906 1016.46 878.326 1016.07 Q876.767 1015.69 875.227 1015.69 Q871.177 1015.69 869.03 1018.42 Q866.903 1021.16 866.599 1026.68 Q867.794 1024.92 869.597 1023.99 Q871.399 1023.04 873.567 1023.04 Q878.124 1023.04 880.757 1025.81 Q883.41 1028.57 883.41 1033.33 Q883.41 1037.99 880.656 1040.8 Q877.901 1043.62 873.324 1043.62 Q868.078 1043.62 865.303 1039.61 Q862.528 1035.58 862.528 1027.94 Q862.528 1020.77 865.931 1016.52 Q869.333 1012.24 875.065 1012.24 Q876.605 1012.24 878.164 1012.55 Q879.744 1012.85 881.446 1013.46 Z\" fill=\"#000000\" fill-rule=\"nonzero\" fill-opacity=\"1\" /><path clip-path=\"url(#clip180)\" d=\"M952.031 1322.56 L971.475 1322.56 L971.475 1324.3 L960.497 1352.8 L956.224 1352.8 L966.554 1326.01 L952.031 1326.01 L952.031 1322.56 Z\" fill=\"#000000\" fill-rule=\"nonzero\" fill-opacity=\"1\" /><path clip-path=\"url(#clip180)\" d=\"M662.317 1257.78 Q659.401 1257.78 657.719 1259.34 Q656.059 1260.9 656.059 1263.64 Q656.059 1266.37 657.719 1267.93 Q659.401 1269.49 662.317 1269.49 Q665.234 1269.49 666.915 1267.93 Q668.596 1266.35 668.596 1263.64 Q668.596 1260.9 666.915 1259.34 Q665.254 1257.78 662.317 1257.78 M658.226 1256.04 Q655.593 1255.39 654.114 1253.59 Q652.656 1251.79 652.656 1249.2 Q652.656 1245.57 655.228 1243.46 Q657.821 1241.36 662.317 1241.36 Q666.834 1241.36 669.406 1243.46 Q671.979 1245.57 671.979 1249.2 Q671.979 1251.79 670.5 1253.59 Q669.042 1255.39 666.429 1256.04 Q669.386 1256.73 671.027 1258.74 Q672.688 1260.74 672.688 1263.64 Q672.688 1268.03 669.994 1270.38 Q667.32 1272.73 662.317 1272.73 Q657.314 1272.73 654.62 1270.38 Q651.947 1268.03 651.947 1263.64 Q651.947 1260.74 653.608 1258.74 Q655.269 1256.73 658.226 1256.04 M656.727 1249.58 Q656.727 1251.93 658.185 1253.25 Q659.664 1254.56 662.317 1254.56 Q664.95 1254.56 666.429 1253.25 Q667.928 1251.93 667.928 1249.58 Q667.928 1247.23 666.429 1245.91 Q664.95 1244.6 662.317 1244.6 Q659.664 1244.6 658.185 1245.91 Q656.727 1247.23 656.727 1249.58 Z\" fill=\"#000000\" fill-rule=\"nonzero\" fill-opacity=\"1\" /><path clip-path=\"url(#clip180)\" d=\"M1475.88 704.807 L1475.88 701.081 Q1477.42 701.81 1479 702.195 Q1480.58 702.579 1482.1 702.579 Q1486.15 702.579 1488.28 699.865 Q1490.42 697.131 1490.73 691.581 Q1489.55 693.323 1487.75 694.255 Q1485.95 695.186 1483.76 695.186 Q1479.22 695.186 1476.57 692.452 Q1473.94 689.697 1473.94 684.938 Q1473.94 680.279 1476.69 677.464 Q1479.45 674.648 1484.02 674.648 Q1489.27 674.648 1492.02 678.679 Q1494.8 682.689 1494.8 690.346 Q1494.8 697.495 1491.4 701.769 Q1488.01 706.023 1482.28 706.023 Q1480.74 706.023 1479.16 705.719 Q1477.58 705.415 1475.88 704.807 M1484.02 691.986 Q1486.78 691.986 1488.38 690.103 Q1490 688.219 1490 684.938 Q1490 681.677 1488.38 679.793 Q1486.78 677.889 1484.02 677.889 Q1481.27 677.889 1479.65 679.793 Q1478.05 681.677 1478.05 684.938 Q1478.05 688.219 1479.65 690.103 Q1481.27 691.986 1484.02 691.986 Z\" fill=\"#000000\" fill-rule=\"nonzero\" fill-opacity=\"1\" /></svg>\n"
      ]
     },
     "metadata": {},
     "output_type": "display_data"
    },
    {
     "name": "stdout",
     "output_type": "stream",
     "text": [
      "\n",
      "TR\n",
      "\n",
      "Node number 7: \n",
      "---------------\n",
      "\n",
      "Solve the LP model of the current node to compute its bound: start ... capacity2 =6\n",
      "TO\n",
      "\n",
      "Node number 8: \n",
      "---------------\n",
      "\n",
      "Solve the LP model of the current node to compute its bound: start ... TO\n",
      "\n",
      "FINISHED\n",
      "\n",
      "******\n",
      "\n",
      "Optimal value = 65.0\n",
      "\n",
      "Optimal x=[1, 2, 3, 4]\n",
      "\n",
      "******\n",
      "\n",
      "Optimal value = 65.0\n",
      "\n",
      "Optimal x=[1, 2, 3, 4]\n",
      "\n",
      " Branch-and-bound tree visualization : start display ...\n"
     ]
    },
    {
     "name": "stdout",
     "output_type": "stream",
     "text": [
      "... end display. \n",
      "\n",
      "\n",
      "press enter to exit ! \n"
     ]
    },
    {
     "ename": "UndefVarError",
     "evalue": "UndefVarError: `execute_msg` not defined",
     "output_type": "error",
     "traceback": [
      "UndefVarError: `execute_msg` not defined\n",
      "\n",
      "Stacktrace:\n",
      " [1] readprompt(prompt::String; password::Bool)\n",
      "   @ VSCodeServer.IJuliaCore c:\\Users\\elgue\\.vscode\\extensions\\julialang.language-julia-1.65.2\\scripts\\packages\\IJuliaCore\\src\\stdio.jl:190\n",
      " [2] readprompt\n",
      "   @ c:\\Users\\elgue\\.vscode\\extensions\\julialang.language-julia-1.65.2\\scripts\\packages\\IJuliaCore\\src\\stdio.jl:188 [inlined]\n",
      " [3] readline(io::VSCodeServer.IJuliaCore.IJuliaStdio{Base.PipeEndpoint, typeof(VSCodeServer.io_send_callback)})\n",
      "   @ VSCodeServer.IJuliaCore c:\\Users\\elgue\\.vscode\\extensions\\julialang.language-julia-1.65.2\\scripts\\packages\\IJuliaCore\\src\\stdio.jl:232\n",
      " [4] readline()\n",
      "   @ Base .\\io.jl:547\n",
      " [5] top-level scope\n",
      "   @ c:\\Users\\elgue\\OneDrive\\Bureau\\SN\\2SN\\S7\\RO\\Notebook+InstancesTP2\\NotebookTP2.ipynb:6"
     ]
    }
   ],
   "source": [
    "INSTANCE = \"InstancesKnapSack/test.opb.txt\"\n",
    "\n",
    "solveNdisplayKnap(INSTANCE)\n",
    "\n",
    "println(\"press enter to exit ! \")\n",
    "readline()\n"
   ]
  },
  {
   "cell_type": "markdown",
   "metadata": {},
   "source": [
    "Questions préliminaires\n",
    "\n",
    "1- la réglede séparation choisie est la régle de séparation lexicographique, qui consiste à choisir le premier objet qui n'a pas encore pris.\n",
    "\n",
    "2- La borne supérieure est obtenue en résolvant la relaxation linéaire du problème, en fixant les variables à 1 pour les objets pris et 0 pour celle non pris.\n",
    "\n",
    "3- TA : Admissible si la relaxation linéaire a une solution.\n",
    "TO : solution Relaxation linéaire est inférieur profit maximal.\n",
    "TR : Relaxation linéaire atteinte par valeurs entières.\n",
    "\n",
    "4- La méthode d'exploration utilisée est la stratégie de recherche en profondeur, également appelée la stratégie depthfirst.\n"
   ]
  },
  {
   "cell_type": "markdown",
   "metadata": {},
   "source": [
    "Code et Analyses\n",
    "\n",
    "1 et 2 - Regardez le code Bornes\n",
    "\n",
    "3- Règle de Séparation : Nous avons maintenu l'ordre lexicographique initial dans notre implémentation du Branch-and-Bound.\n",
    "\n",
    "Test de Faisabilité (TA) : Le test  est réussi lorsque la capacité du sac à dos devient négative. c'est à dire le sac est remplie plus que sa capacité normal.\n",
    "\n",
    "Test d'Optimalité (TO) : Le test réussit si la valeur de la borne supérieure, obtenue en remplissant le sac à dos, est inférieure à la meilleure solution déjà identifiée.\n",
    "\n",
    "Test de Relaxation (TR) : Le test de relaxation est réussi lorsque nous identifions une solution évidente au problème. Nous l'avons validé en cas de capacité nulle du sac à dos au nœud sondé, ou on trouve la même solution qu'on a trouvé avant.\n",
    "\n",
    "Stratégie d'Exploration : Nous avons conservé la stratégie d'exploration en profondeur (deephtfirst) .\n",
    "\n",
    "4- "
   ]
  },
  {
   "cell_type": "code",
   "execution_count": null,
   "metadata": {},
   "outputs": [],
   "source": []
  }
 ],
 "metadata": {
  "kernelspec": {
   "display_name": "Julia 1.9.3",
   "language": "julia",
   "name": "julia-1.9"
  },
  "language_info": {
   "file_extension": ".jl",
   "mimetype": "application/julia",
   "name": "julia",
   "version": "1.9.3"
  }
 },
 "nbformat": 4,
 "nbformat_minor": 4
}
