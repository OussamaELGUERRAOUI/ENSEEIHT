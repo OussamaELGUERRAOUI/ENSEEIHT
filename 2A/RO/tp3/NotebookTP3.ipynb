{
 "cells": [
  {
   "cell_type": "markdown",
   "metadata": {},
   "source": [
    "# TP 3 : Programmation dynamique\n"
   ]
  },
  {
   "cell_type": "markdown",
   "metadata": {},
   "source": [
    "### Initialisation (à faire une seule fois)"
   ]
  },
  {
   "cell_type": "code",
   "execution_count": 2,
   "metadata": {},
   "outputs": [
    {
     "name": "stderr",
     "output_type": "stream",
     "text": [
      "\u001b[32m\u001b[1m    Updating\u001b[22m\u001b[39m registry at `C:\\Users\\elgue\\.julia\\registries\\General.toml`\n"
     ]
    }
   ],
   "source": [
    "import Pkg; \n",
    "Pkg.add(\"GraphRecipes\"); Pkg.add(\"Plots\"); \n",
    "using GraphRecipes, Plots #only used to visualize the search tree at the end of the branch-and-bound"
   ]
  },
  {
   "cell_type": "markdown",
   "metadata": {},
   "source": [
    "### Récupération des données"
   ]
  },
  {
   "cell_type": "code",
   "execution_count": 1,
   "metadata": {},
   "outputs": [
    {
     "data": {
      "text/plain": [
       "readKnaptxtInstance (generic function with 1 method)"
      ]
     },
     "metadata": {},
     "output_type": "display_data"
    }
   ],
   "source": [
    "function readKnaptxtInstance(filename)\n",
    "    price=Int64[]\n",
    "    weight=Int64[]\n",
    "    KnapCap=Int64[]\n",
    "    open(filename) do f\n",
    "        for i in 1:3\n",
    "            tok = split(readline(f))\n",
    "            if(tok[1] == \"ListPrices=\")\n",
    "                for i in 2:(length(tok)-1)\n",
    "                    push!(price,parse(Int64, tok[i]))\n",
    "                end\n",
    "            elseif(tok[1] == \"ListWeights=\")\n",
    "                for i in 2:(length(tok)-1)\n",
    "                    push!(weight,parse(Int64, tok[i]))\n",
    "                end\n",
    "            elseif(tok[1] == \"Capacity=\")\n",
    "                push!(KnapCap, parse(Int64, tok[2]))\n",
    "            else\n",
    "                println(\"Unknown read :\", tok)\n",
    "            end\n",
    "        end\n",
    "    end\n",
    "    capacity=KnapCap[1]\n",
    "    return price, weight, capacity\n",
    "end"
   ]
  },
  {
   "cell_type": "markdown",
   "metadata": {},
   "source": [
    "### Boucle principale : Implémentation programmation dynamique permettant de résoudre leproblème du sac à dos."
   ]
  },
  {
   "cell_type": "code",
   "execution_count": 2,
   "metadata": {},
   "outputs": [
    {
     "data": {
      "text/plain": [
       "solveKnapInstance (generic function with 1 method)"
      ]
     },
     "metadata": {},
     "output_type": "display_data"
    }
   ],
   "source": [
    "function solveKnapInstance(filename)\n",
    "\n",
    "    price, weight, capacity = readKnaptxtInstance(filename)\n",
    "    n = length(price)\n",
    "    table = zeros(Int, n+1, capacity+1)\n",
    "    c = capacity\n",
    "    indObjSele = []\n",
    "    \n",
    "    \n",
    "    # remplissage du tableau dynamique avec les valeurs optimales\n",
    "    for i in 2:(n+1)\n",
    "        for w in 2:(capacity+1)\n",
    "            if weight[i-1]  < w\n",
    "                table[i, w] = max(table[i-1, w], table[i-1, w-weight[i-1]] + price[i-1])\n",
    "            else\n",
    "                table[i, w] = table[i-1, w]\n",
    "            end\n",
    "        end\n",
    "    end\n",
    "    # récupération du profit optimal qui est dans la dernière case du tableau\n",
    "    BestProfit = table[n+1, capacity+1]\n",
    "\n",
    "    # récupération des objets mis dans le sac\n",
    "    for i in n+1:-1:2\n",
    "        if table[i, c+1] != table[i-1, c+1]\n",
    "            push!(indObjSele, i-1)\n",
    "            c -= weight[i-1]\n",
    "        end\n",
    "        if c <= 0\n",
    "            break\n",
    "        end     \n",
    "    end\n",
    "    \n",
    "    bestSol = zeros(Int, n)\n",
    "    for i in indObjSele\n",
    "        bestSol[i] = 1\n",
    "    end\n",
    "\n",
    "    return BestProfit, bestSol,table\n",
    "\n",
    "end\n"
   ]
  },
  {
   "cell_type": "markdown",
   "metadata": {},
   "source": [
    "### Affichage du résultat final"
   ]
  },
  {
   "cell_type": "code",
   "execution_count": 3,
   "metadata": {},
   "outputs": [
    {
     "data": {
      "text/plain": [
       "solveNdisplayKnap (generic function with 1 method)"
      ]
     },
     "metadata": {},
     "output_type": "display_data"
    }
   ],
   "source": [
    "function solveNdisplayKnap(filename)\n",
    "\n",
    "    println(\"\\n Branch-and-Bound for solving a knapsack problem. \\n\\n Solving instance '\" * filename * \"'\\n\")\n",
    "\n",
    "    BestProfit, BestSol, TableDynamique = solveKnapInstance(filename)\n",
    "\n",
    "    println(\"\\n******\\n\\nOptimal value = \", BestProfit, \"\\n\\nOptimal x=\", BestSol)\n",
    "    println(\"\\n******\\n\\nTableau dynamique : \\n\", TableDynamique)\n",
    "\n",
    "    \n",
    "end"
   ]
  },
  {
   "cell_type": "code",
   "execution_count": 5,
   "metadata": {},
   "outputs": [
    {
     "name": "stdout",
     "output_type": "stream",
     "text": [
      "\n",
      " Branch-and-Bound for solving a knapsack problem. \n",
      "\n",
      " Solving instance 'InstancesKnapSack/test.opb.txt'\n",
      "\n",
      "\n",
      "******\n",
      "\n",
      "Optimal value = 65\n",
      "\n",
      "Optimal x=[0, 1, 0, 1]\n",
      "\n",
      "******\n",
      "\n",
      "Tableau dynamique : \n",
      "[0 0 0 0 0 0 0 0 0 0 0; 0 0 0 0 0 0 0 42 42 42 42; 0 0 0 0 40 40 40 42 42 42 42; 0 0 0 12 40 40 40 52 52 52 54; 0 0 0 12 40 40 40 52 52 65 65]\n",
      "press enter to exit ! \n"
     ]
    }
   ],
   "source": [
    "INSTANCE = \"InstancesKnapSack/test.opb.txt\"\n",
    "\n",
    "solveNdisplayKnap(INSTANCE)\n",
    "\n",
    "println(\"press enter to exit ! \")\n",
    "\n",
    "\n"
   ]
  }
 ],
 "metadata": {
  "kernelspec": {
   "display_name": "Julia 1.9.3",
   "language": "julia",
   "name": "julia-1.9"
  },
  "language_info": {
   "file_extension": ".jl",
   "mimetype": "application/julia",
   "name": "julia",
   "version": "1.9.3"
  }
 },
 "nbformat": 4,
 "nbformat_minor": 4
}
