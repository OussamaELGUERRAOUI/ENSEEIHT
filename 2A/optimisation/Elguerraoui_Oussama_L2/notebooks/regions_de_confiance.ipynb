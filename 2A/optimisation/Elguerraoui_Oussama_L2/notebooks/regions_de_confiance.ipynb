{
 "cells": [
  {
   "cell_type": "markdown",
   "metadata": {},
   "source": [
    "<center>\n",
    "<h1> TP-Projet d'optimisation numérique </h1>\n",
    "<h1> Algorithme des régions de confiance </h1>\n",
    "</center>"
   ]
  },
  {
   "cell_type": "markdown",
   "metadata": {},
   "source": [
    "# Régions de confiance avec Pas de Cauchy \n",
    "\n",
    "## Implémentation \n",
    "\n",
    "1. Coder l'algorithme du pas de Cauchy dans le fichier `src/cauchy.jl`). La spécification de cet algorithme est donnée dans le fichier.\n",
    "2. Ecrire des tests exhaustifs (qui testent tous les cas de figure possibles) pour votre algorithme du pas de Cauchy. Vous remplirez pour cela le fichier `test/tester_cauchy.jl` sur le modèle des autres fichiers de tests et vous exécuterez dans la cellule de code ci-après ces tests."
   ]
  },
  {
   "cell_type": "code",
   "execution_count": 5,
   "metadata": {},
   "outputs": [
    {
     "name": "stdout",
     "output_type": "stream",
     "text": [
      "\u001b[0m\u001b[1mTest Summary: | \u001b[22m\u001b[32m\u001b[1mPass  \u001b[22m\u001b[39m\u001b[36m\u001b[1mTotal  \u001b[22m\u001b[39m\u001b[0m\u001b[1mTime\u001b[22m\n",
      "Pas de Cauchy | \u001b[32m   5  \u001b[39m\u001b[36m    5  \u001b[39m\u001b[0m0.0s\n"
     ]
    }
   ],
   "source": [
    "include(\"../src/cauchy.jl\")         # votre algorithme\n",
    "include(\"../test/tester_cauchy.jl\") # la fonction pour tester votre algorithme\n",
    "\n",
    "#\n",
    "tester_cauchy(cauchy); # tester l'algorithme"
   ]
  },
  {
   "cell_type": "markdown",
   "metadata": {},
   "source": [
    "3. Coder l'algorithme des régions de confiance (fichier `src/regions_de_confiance.jl`). Sa spécification est donnée dans le fichier.\n",
    "4. Vérifier que les tests ci-dessous passent."
   ]
  },
  {
   "cell_type": "code",
   "execution_count": 30,
   "metadata": {},
   "outputs": [
    {
     "name": "stdout",
     "output_type": "stream",
     "text": [
      "Affichage des résultats des algorithmes : true\n"
     ]
    },
    {
     "name": "stdout",
     "output_type": "stream",
     "text": [
      "\n",
      "-------------------------------------------------------------------------\n",
      "\u001b[34m\u001b[1mRésultats de : RC et cauchy appliqué à f1:\u001b[22m\u001b[39m\n",
      "  * x0       = [1, 0, 0]\n",
      "  * x_sol    = [1.0000065049853921, 1.000000873235793, 0.9999952414861938]\n",
      "  * f(x_sol) = 7.71589405988668e-11\n",
      "  * nb_iters = 33\n",
      "  * flag     = 2\n",
      "  * solution = [1, 1, 1]\n",
      "-------------------------------------------------------------------------\n",
      "\u001b[34m\u001b[1mRésultats de : RC et cauchy appliqué à f1:\u001b[22m\u001b[39m\n",
      "  * x0       = [10.0, 3.0, -2.2]\n",
      "  * x_sol    = [1.000003643199092, 0.9999997146801121, 0.9999957861612833]\n",
      "  * f(x_sol) = 3.233185493810428e-11\n",
      "  * nb_iters = 34\n",
      "  * flag     = 2\n",
      "  * solution = [1, 1, 1]"
     ]
    },
    {
     "name": "stdout",
     "output_type": "stream",
     "text": [
      "\n",
      "-------------------------------------------------------------------------\n",
      "\u001b[34m\u001b[1mRésultats de : RC et cauchy appliqué à f2:\u001b[22m\u001b[39m\n",
      "  * x0       = [-1.2, 1.0]\n",
      "  * x_sol    = [0.999352919778289, 0.9987042941073713]\n",
      "  * f(x_sol) = 4.19098606573656e-7\n",
      "  * nb_iters = 5000\n",
      "  * flag     = 3\n",
      "  * solution = [1, 1]\n",
      "-------------------------------------------------------------------------\n",
      "\u001b[34m\u001b[1mRésultats de : RC et cauchy appliqué à f2:\u001b[22m\u001b[39m\n",
      "  * x0       = [10, 0]\n",
      "  * x_sol    = [0.9961677295964368, 0.9923393628804894]\n",
      "  * f(x_sol) = 1.4697922911344958e-5\n",
      "  * nb_iters = 864\n",
      "  * flag     = 0\n",
      "  * solution = [1, 1]"
     ]
    },
    {
     "name": "stdout",
     "output_type": "stream",
     "text": [
      "\n",
      "-------------------------------------------------------------------------\n",
      "\u001b[34m\u001b[1mRésultats de : RC et cauchy appliqué à f2:\u001b[22m\u001b[39m\n",
      "  * x0       = [0.0, 0.0050000000010000005]\n",
      "  * x_sol    = [0.9998396448637233, 0.9996777928338819]\n",
      "  * f(x_sol) = 2.5945603039827217e-8\n",
      "  * nb_iters = 4512\n",
      "  * flag     = 2\n",
      "  * solution = [1, 1]\n",
      "\u001b[0m\u001b[1mTest Summary:        | \u001b[22m\u001b[32m\u001b[1mPass  \u001b[22m\u001b[39m\u001b[36m\u001b[1mTotal  \u001b[22m\u001b[39m\u001b[0m\u001b[1mTime\u001b[22m\n",
      "RC et pas de Cauchy  | \u001b[32m  15  \u001b[39m\u001b[36m   15  \u001b[39m\u001b[0m0.6s\n"
     ]
    }
   ],
   "source": [
    "include(\"../src/regions_de_confiance.jl\")\n",
    "include(\"../test/tester_rc_cauchy.jl\")\n",
    "\n",
    "#\n",
    "afficher = true # si true, alors affiche les résultats des algorithmes\n",
    "\n",
    "#\n",
    "tester_rc_cauchy(regions_de_confiance, afficher);"
   ]
  },
  {
   "cell_type": "markdown",
   "metadata": {},
   "source": [
    "## Interprétation \n",
    "\n",
    "<!-- Pour ces questions, des représentations graphiques sont attendues pour corroborer vos réponses. -->\n",
    "\n",
    "1. Soit la fonction $f_1 \\colon \\mathbb{R}^3 \\to \\mathbb{R}$ définie par\n",
    "$$ \n",
    "    f_1(x_1,x_2, x_3) = 2 (x_1 +x_2 + x_3 -3)^2 + (x_1-x_2)^2 + (x_2 - x_3)^2\n",
    "$$ \n",
    "Quelle relation lie la fonction $f_1$ et son modèle de Taylor à l’ordre 2 ? Comparer alors les performances de l'algorithme de Newton et celui des régions de confiance avec le pas de Cauchy sur cette fonction.\n",
    "\n",
    "2. Le rayon initial de la région de confiance est un paramètre important dans l’analyse\n",
    "de la performance de l’algorithme. Sur quel(s) autre(s) paramètre(s) peut-on jouer\n",
    "pour essayer d’améliorer cette performance ? Étudier l’influence d’au moins deux de\n",
    "ces paramètres. Pour cela vous ferez des tests numériques et donnerez les résultats sous forme de tableaux et de graphiques."
   ]
  },
  {
   "cell_type": "code",
   "execution_count": null,
   "metadata": {},
   "outputs": [],
   "source": [
    "# Expérimentations numériques à faire ici\n",
    "# Vous pouvez utiliser le package Plots pour les affichages de courbes: using Plots\n",
    "\n",
    "1.  \n",
    "La fonction f1 est quadratique, ce qui la rend équivalente à son modèle de Taylor d'ordre 2. Du fait de cette nature quadratique, l'algorithme de Newton converge en une seule itération pour\n",
    " tous les points initiaux. En revanche, l'efficacité de l'algorithme de Cauchy dépend à la fois du rayon de la région de confiance et du choix du point initial. Ainsi, pour f1 l'algorithme de Newton \n",
    " se révèle plus efficace, assurant une convergence rapide, tandis que l'algorithme de Cauchy peut nécessiter plusieurs itérations selon le rayon de la région de confiance et le point initial choisi.\n",
    "\n",
    "2. \n",
    "L'évolution de deltak est étroitement liée aux paramètres gamma1 et gamma2, qui régulent la taille de la région de confiance en fonction de l'approximation de la fonction f par \n",
    "sa série de Taylor. De même, la performance de l'algorithme dépend significativement des valeurs de eta1 et eta2, qui déterminent la qualité de cette approximation. En ajustant eta_1, \n",
    "une valeur plus élevée conduit à une convergence plus rapide, illustrée par une réduction substantielle de l'écart entre la solution obtenue et la solution exacte du problème.\n",
    " En revanche, l'ajustement de gamma2 montre qu'une augmentation de sa valeur conduit à une convergence moins rapide, provoquant un éloignement plus important entre la solution trouvée \n",
    " et la solution exacte, notamment observé pour la fonction f2 au point initial x0."
   ]
  },
  {
   "cell_type": "markdown",
   "metadata": {},
   "source": [
    "# Régions de confiance avec gradient conjugué tronqué\n",
    "\n",
    "## Implémentation \n",
    "\n",
    "1. Implémenter l’algorithme du gradient conjugué tronqué (fichier `src/gct.jl`). Sa spécification est dans le fichier.\n",
    "2. Vérifier que les tests ci-dessous passent."
   ]
  },
  {
   "cell_type": "code",
   "execution_count": 6,
   "metadata": {},
   "outputs": [
    {
     "name": "stdout",
     "output_type": "stream",
     "text": [
      "\u001b[0m\u001b[1mTest Summary:             | \u001b[22m\u001b[32m\u001b[1mPass  \u001b[22m\u001b[39m\u001b[36m\u001b[1mTotal  \u001b[22m\u001b[39m\u001b[0m\u001b[1mTime\u001b[22m\n",
      "Gradient conjugué tronqué | \u001b[32m   9  \u001b[39m\u001b[36m    9  \u001b[39m\u001b[0m0.1s\n"
     ]
    }
   ],
   "source": [
    "include(\"../src/gct.jl\")\n",
    "include(\"../test/tester_gct.jl\")\n",
    "\n",
    "#\n",
    "tester_gct(gct);"
   ]
  },
  {
   "cell_type": "markdown",
   "metadata": {},
   "source": [
    "3. Intégrer l’algorithme du gradient conjugué tronqué dans le code des régions de confiance.\n",
    "4. Vérifier que les tests ci-dessous passent."
   ]
  },
  {
   "cell_type": "code",
   "execution_count": 6,
   "metadata": {},
   "outputs": [
    {
     "name": "stdout",
     "output_type": "stream",
     "text": [
      "Affichage des résultats des algorithmes : true\n"
     ]
    },
    {
     "name": "stdout",
     "output_type": "stream",
     "text": [
      "\n",
      "-------------------------------------------------------------------------\n",
      "\u001b[34m\u001b[1mRésultats de : RC et gct appliqué à f1:\u001b[22m\u001b[39m\n",
      "  * x0       = "
     ]
    },
    {
     "name": "stdout",
     "output_type": "stream",
     "text": [
      "[1, 0, 0]\n"
     ]
    },
    {
     "name": "stdout",
     "output_type": "stream",
     "text": [
      "  * x_sol    = [1.0000000000000007, 1.0, 1.0]\n",
      "  * f(x_sol) = 2.0214560696288428e-30\n",
      "  * nb_iters = 1\n",
      "  * flag     = 0\n",
      "  * solution = [1, 1, 1]"
     ]
    },
    {
     "name": "stdout",
     "output_type": "stream",
     "text": [
      "\n",
      "-------------------------------------------------------------------------\n",
      "\u001b[34m\u001b[1mRésultats de : RC et gct appliqué à f1:\u001b[22m\u001b[39m\n",
      "  * x0       = [10.0, 3.0, -2.2]\n",
      "  * x_sol    = [1.0, 0.9999999999999998, 1.0]\n",
      "  * f(x_sol) = 9.860761315262648e-32\n",
      "  * nb_iters = 3\n",
      "  * flag     = 0\n",
      "  * solution = [1, 1, 1]\n"
     ]
    },
    {
     "name": "stdout",
     "output_type": "stream",
     "text": [
      "-------------------------------------------------------------------------\n",
      "\u001b[34m\u001b[1mRésultats de : RC et gct appliqué à f2:\u001b[22m\u001b[39m\n",
      "  * x0       = [-1.2, 1.0]\n",
      "  * x_sol    = [0.999999674378009, 0.999999347837161]\n",
      "  * f(x_sol) = 1.0611413032942621e-13\n",
      "  * nb_iters = 31\n",
      "  * flag     = 0\n",
      "  * solution = [1, 1]\n",
      "-------------------------------------------------------------------------\n",
      "\u001b[34m\u001b[1mRésultats de : RC et gct appliqué à f2:\u001b[22m\u001b[39m\n",
      "  * x0       = [10, 0]\n",
      "  * x_sol    = [1.000003518300986, 1.0000066949336197]\n",
      "  * f(x_sol) = 2.4053014025360875e-11\n",
      "  * nb_iters = 44\n",
      "  * flag     = 0\n",
      "  * solution = [1, 1]\n",
      "-------------------------------------------------------------------------\n",
      "\u001b[34m\u001b[1mRésultats de : RC et gct appliqué à f2:\u001b[22m\u001b[39m\n",
      "  * x0       = [0.0, 0.0050000000010000005]\n",
      "  * x_sol    = [0.9999999999998994, 0.9999999999996207]\n",
      "  * f(x_sol) = 3.1813581453548166e-24\n",
      "  * nb_iters = 19\n",
      "  * flag     = 0\n",
      "  * solution = [1, 1]\n",
      "\u001b[0m\u001b[1mTest Summary: | \u001b[22m\u001b[32m\u001b[1mPass  \u001b[22m\u001b[39m"
     ]
    },
    {
     "name": "stdout",
     "output_type": "stream",
     "text": [
      "\u001b[36m\u001b[1mTotal  \u001b[22m\u001b[39m\u001b[0m\u001b[1mTime\u001b[22m\n",
      "RC et gct     | \u001b[32m  15  \u001b[39m\u001b[36m   15  \u001b[39m\u001b[0m2.1s\n"
     ]
    }
   ],
   "source": [
    "include(\"../src/regions_de_confiance.jl\")\n",
    "include(\"../test/tester_rc_gct.jl\")\n",
    "\n",
    "#\n",
    "afficher = true # si true, alors affiche les résultats des algorithmes\n",
    "\n",
    "#\n",
    "tester_rc_gct(regions_de_confiance, afficher);"
   ]
  },
  {
   "attachments": {},
   "cell_type": "markdown",
   "metadata": {},
   "source": [
    "## Interprétation  \n",
    "\n",
    "Nous proposons de comparer l'utilisation du pas de Cauchy avec celle du gradient conjugué tronqué dans l'algorithme des régions de confiance.\n",
    "\n",
    "**Remarques.**\n",
    "* Nous vous demandons de réaliser des expérimentations numériques pour les comparaisons demandées ci-après.\n",
    "* Vous devez utiliser l'argument optionnel `max_iter_gct` et la sortie `xs` de l'algorithme des régions de confiance.\n",
    "* Vous pouvez comparer l'écart en norme entre les itérés de l'algorithme et la solution du problème.\n",
    "* Vous trouverez des choses utiles dans le fichier `test/fonctions_de_tests.jl`.\n",
    "\n",
    "1. Comparer dans le cas où l'on force le gradient conjugué tronqué à ne faire qu'une seule itération. Que remarquez vous ?\n",
    "2. Comparer dans le cas général. Que remarquez vous ?\n",
    "3. Quels sont les avantages et inconvénients des deux approches ?"
   ]
  },
  {
   "cell_type": "code",
   "execution_count": null,
   "metadata": {},
   "outputs": [],
   "source": [
    "# Expérimentations numériques à faire ici.\n",
    "# Vous pouvez utiliser le package Plots pour les affichages de courbes: using Plots"
   ]
  }
 ],
 "metadata": {
  "kernelspec": {
   "display_name": "Julia 1.9.3",
   "language": "julia",
   "name": "julia-1.9"
  },
  "language_info": {
   "file_extension": ".jl",
   "mimetype": "application/julia",
   "name": "julia",
   "version": "1.9.3"
  }
 },
 "nbformat": 4,
 "nbformat_minor": 4
}
