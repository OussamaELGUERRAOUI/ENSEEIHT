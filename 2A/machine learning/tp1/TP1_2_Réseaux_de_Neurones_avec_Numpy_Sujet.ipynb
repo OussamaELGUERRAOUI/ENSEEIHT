{
  "cells": [
    {
      "cell_type": "markdown",
      "metadata": {
        "id": "5b3pjAUEk2LQ"
      },
      "source": [
        "# Construire et entraîner un perceptron multi-couches - étape par étape\n",
        "\n",
        "Dans ce TP, vous allez mettre en œuvre l'entraînement d'un réseau de neurones (perceptron multi-couches) à l'aide de la librairie **numpy**. Pour cela nous allons procéder par étapes successives. Dans un premier temps nous allons traiter le cas d'un perceptron mono-couche, en commençant par la passe *forward* de prédiction d'une sortie à partir d'une entrée et des paramètres du perceptron, puis en implémentant la passe *backward* de calcul des gradients de la fonction objectif par rapport aux paramètres. A partir de là, nous pourrons tester l'entraînement à l'aide de la descente de gradient stochastique.\n",
        "\n",
        "Une fois ces étapes achevées, nous pourrons nous atteler à la construction d'un perceptron multi-couches, qui consistera pour l'essentiel en la composition de perceptrons mono-couche.\n",
        "\n",
        "Dans ce qui suit, nous adoptons les conventions de notation suivantes :\n",
        "\n",
        "- $(x, y)$ désignent un couple donnée/label de la base d'apprentissage ; $\\hat{y}$ désigne quant à lui la prédiction du modèle sur la donnée $x$.\n",
        "\n",
        "- L'indice $i$ indique la $i^{\\text{ème}}$ dimension d'un vecteur ⇒ $a_i$\n",
        "\n",
        "- L'exposant $(k)$ désigne un objet associé au $k^{\\text{ème}}$ exemple ⇒ $a_i^{(k)}$\n",
        "\n",
        "- L'exposant $[l]$ désigne un objet associé à la $l^{\\text{ème}}$ couche ⇒ $a_i^{(k)[l]}$\n",
        "   \n",
        "Exemple:  \n",
        "- $a_5^{(2)[3]}$ indique donc la $5^{\\text{ème}}$ dimension du vecteur d'activation du $2^{\\text{ème}}$ exemple d'entraînement (2), de la $3^{\\text{ème}}$ couche [3].\n",
        "\n",
        "\n",
        "Commençons par importer tous les modules nécessaires :"
      ]
    },
    {
      "cell_type": "code",
      "execution_count": 2,
      "metadata": {
        "id": "R6LBs_NLla1a"
      },
      "outputs": [],
      "source": [
        "import numpy as np\n",
        "import math\n",
        "import matplotlib.pyplot as plt\n",
        "\n",
        "from sklearn.model_selection import train_test_split\n",
        "from sklearn import datasets"
      ]
    },
    {
      "cell_type": "markdown",
      "metadata": {
        "id": "3JZIXefJlXSV"
      },
      "source": [
        "# Perceptron mono-couche\n"
      ]
    },
    {
      "cell_type": "markdown",
      "metadata": {
        "id": "azdcz3QV_k-r"
      },
      "source": [
        "### Perceptron mono-couche - passe *forward*\n",
        "\n",
        "Un perceptron mono-couche est un modèle liant une couche d'entrée (en vert, qui n'effectue pas d'opération) à une couche de sortie. Les neurones des deux couches sont connectés par des liaisons pondérées (les poids synaptiques) $W_{xy}$, et les neurones de la couche de sortie portent chacun un biais additif $b_y$. Enfin, une fonction d'activation $f$ est appliquée à l'issue de ces opérations pour obtenir la prédiction du réseau $\\hat{y}$.\n",
        "\n",
        "On a donc :\n",
        "\n",
        "$$\\hat{y} = f ( W_{xy} x + b_y )$$\n",
        "\n",
        "On posera pour la suite :\n",
        "$$ z = W_{xy} x + b_y $$\n",
        "\n",
        "La figure montre une représentation de ces opérations sous forme de réseau de neurones (à gauche), mais aussi sous une forme fonctionnelle (à droite) qui permet de bien visualiser l'ordre des opérations.\n",
        "\n",
        "<img src=\"https://drive.google.com/uc?id=1RZeiaKue0GLXJr3HRtKkuP6GD8r6I1_Q\" height=300>\n",
        "<img src=\"https://drive.google.com/uc?id=1dnQ6SSdpEX1GDTgoNTrUwA3xjiP9rTYU\" height=250>\n",
        "\n",
        "\n",
        "Notez que les paramètres du perceptron, que nous allons ajuster par un processus d'optimisation, sont donc les poids synaptiques $W_{xy}$ et les biais $b_y$. Par commodité dans le code, nous considérerons également comme un paramètre le choix de la fonction d'activation.\n",
        "\n",
        "**Remarque importante** : En pratique, on traite souvent les données par *batch*, c'est-à-dire que les prédictions sont faites pour plusieurs données simultanément. Ici pour une taille de *batch* de $m$, cela signifie en fait que :\n",
        "\n",
        "$$ x \\in \\mathbb{R}^{4 \\times m} \\text{  et  } y \\in \\mathbb{R}^{5 \\times m}$$\n"
      ]
    },
    {
      "cell_type": "markdown",
      "metadata": {
        "id": "RBtX2euQDSCS"
      },
      "source": [
        "Complétez la fonction *dense_layer_forward* qui calcule la prédiction  d'un perceptron mono-couche pour une entrée $x$.\n",
        "\n",
        "**Indication**:\n",
        "```\n",
        "La fonction np.matmul permet de réaliser un produit matriciel.\n",
        "```"
      ]
    },
    {
      "cell_type": "code",
      "execution_count": 16,
      "metadata": {
        "id": "YGYbWrRfmIwx"
      },
      "outputs": [],
      "source": [
        "def dense_layer_forward(x, Wxy, by, activation):\n",
        "    \"\"\"\n",
        "    Réalise une unique étape forward de la couche dense telle que décrite dans la figure précédente\n",
        "\n",
        "    Arguments:\n",
        "    x -- l'entrée, tableau numpy de dimension (n_x, m).\n",
        "    Wxy -- Matrice de poids multipliant l'entrée, tableau numpy de shape (n_y, n_x)\n",
        "    by -- Biais additif ajouté à la sortie, tableau numpy de dimension (n_y, 1)\n",
        "    activation -- Chaîne de caractère désignant la fonction d'activation choisie : 'linear', 'sigmoid' ou 'relu'\n",
        "\n",
        "    Retourne :\n",
        "    y_pred -- prédiction, tableau numpy de dimension (n_y, m)\n",
        "    cache -- tuple des valeurs utiles pour la passe backward (rétropropagation du gradient), contient (x, z)\n",
        "    \"\"\"\n",
        "\n",
        "\n",
        "\n",
        "    ### A COMPLETER\n",
        "    # calcul de z\n",
        "    z = np.dot(Wxy, x) + by\n",
        "    # calcul de la sortie en appliquant la fonction d'activation\n",
        "    if activation == 'relu':\n",
        "      y_pred = np.maximum(0, z) \n",
        "    elif activation == 'sigmoid':\n",
        "      y_pred = 1 / (1 + np.exp(-z))\n",
        "    elif activation == 'linear':\n",
        "      y_pred = z\n",
        "    else:\n",
        "      print(\"Erreur : la fonction d'activation n'est pas implémentée.\")\n",
        "\n",
        "    ### FIN\n",
        "\n",
        "    # sauvegarde du cache pour la passe backward\n",
        "    cache = (x, z)\n",
        "\n",
        "    return y_pred, cache"
      ]
    },
    {
      "cell_type": "markdown",
      "metadata": {
        "id": "1dCFTHOqD_Tp"
      },
      "source": [
        "Exécutez les lignes suivantes pour vérifier la validité de votre code :"
      ]
    },
    {
      "cell_type": "code",
      "execution_count": 17,
      "metadata": {
        "id": "B6wlVU37on1k"
      },
      "outputs": [
        {
          "name": "stdout",
          "output_type": "stream",
          "text": [
            "y_pred.shape = \n",
            " (2, 10)\n",
            "----------------------------\n",
            "activation relu : y_pred[1] =\n",
            " [0.         2.11983968 0.88583246 1.39272594 0.         2.92664609\n",
            " 0.         1.47890228 0.         0.04725575]\n",
            "----------------------------\n",
            "activation sigmoid : y_pred[1] =\n",
            " [0.10851642 0.89281659 0.70802939 0.80102707 0.21934644 0.94914804\n",
            " 0.24545321 0.81440672 0.48495927 0.51181174]\n",
            "----------------------------\n",
            "activation linear : y_pred[1] =\n",
            " [-2.10598556  2.11983968  0.88583246  1.39272594 -1.26947904  2.92664609\n",
            " -1.12301093  1.47890228 -0.06018107  0.04725575]\n"
          ]
        }
      ],
      "source": [
        "np.random.seed(1)\n",
        "x_tmp = np.random.randn(3,10)\n",
        "Wxy = np.random.randn(2,3)\n",
        "by = np.random.randn(2,1)\n",
        "\n",
        "activation = 'relu'\n",
        "y_pred_tmp, cache_tmp = dense_layer_forward(x_tmp, Wxy, by, activation)\n",
        "print(\"y_pred.shape = \\n\", y_pred_tmp.shape)\n",
        "\n",
        "print('----------------------------')\n",
        "\n",
        "print(\"activation relu : y_pred[1] =\\n\", y_pred_tmp[1])\n",
        "\n",
        "print('----------------------------')\n",
        "\n",
        "activation = 'sigmoid'\n",
        "y_pred_tmp, cache_tmp = dense_layer_forward(x_tmp, Wxy, by, activation)\n",
        "print(\"activation sigmoid : y_pred[1] =\\n\", y_pred_tmp[1])\n",
        "\n",
        "print('----------------------------')\n",
        "\n",
        "activation = 'linear'\n",
        "y_pred_tmp, cache_tmp = dense_layer_forward(x_tmp, Wxy, by, activation)\n",
        "print(\"activation linear : y_pred[1] =\\n\", y_pred_tmp[1])\n"
      ]
    },
    {
      "cell_type": "markdown",
      "metadata": {
        "id": "YYbiDw8TptiN"
      },
      "source": [
        "**Affichage attendu**:\n",
        "```Python\n",
        "y_pred.shape =\n",
        " (2, 10)\n",
        "----------------------------\n",
        "activation relu : y_pred[1] =\n",
        " [0.         2.11983968 0.88583246 1.39272594 0.         2.92664609\n",
        " 0.         1.47890228 0.         0.04725575]\n",
        "----------------------------\n",
        "activation sigmoid : y_pred[1] =\n",
        " [0.10851642 0.89281659 0.70802939 0.80102707 0.21934644 0.94914804\n",
        " 0.24545321 0.81440672 0.48495927 0.51181174]\n",
        "----------------------------\n",
        "activation linear : y_pred[1] =\n",
        " [-2.10598556  2.11983968  0.88583246  1.39272594 -1.26947904  2.92664609\n",
        " -1.12301093  1.47890228 -0.06018107  0.04725575]\n",
        "\n",
        "```"
      ]
    },
    {
      "cell_type": "markdown",
      "metadata": {
        "id": "GypgZ8jBqooR"
      },
      "source": [
        "### Perceptron mono-couche - passe *backward*\n",
        "\n",
        "Dans les librairies d'apprentissage profond actuelles, il suffit d'implémenter la passe *forward*, et la passe *backward* est réalisée automatiquement, avec le calcul des gradients (différentiation automatique) et la mise à jour des paramètres. Il est cependant intéressant de comprendre comment fonctionne la passe *backward*, en l'implémentant sur un exemple simple.\n",
        "\n",
        "<img src=\"https://drive.google.com/uc?id=1MC8Nxu6BQnpB7cGLwunIbgx9s1FaGw81\" height=350>\n",
        "\n",
        "Il faut calculer les dérivées de la fonction objectif par rapport aux différents paramètres, pour ensuite mettre à jour ces derniers pendant la descente de gradient. Les équations de calcul des gradients sont données ci-dessous (c'est un bon exercice que de les calculer à la main).\n",
        "\n",
        "\\begin{align}\n",
        "\\displaystyle dx &= \\frac{\\partial J}{\\partial x} &= { W_{xy}}^T \\: \\left( d\\hat{y} * \\frac{\\partial \\hat{y}}{\\partial z} \\right) \\tag{1}  \\\\[8pt]\n",
        "\\displaystyle  {dW_{xy}} &= \\frac{\\partial J}{\\partial W_{xy}} &= \\left( d\\hat{y} * \\frac{\\partial \\hat{y}}{\\partial z} \\right) \\: x^{T}\\tag{2} \\\\[8pt]\n",
        "\\displaystyle db_{y} &= \\frac{\\partial J}{\\partial b_y} &= \\sum_{i=1}^m \\left( d\\hat{y} * \\frac{\\partial \\hat{y}}{\\partial z} \\right) \\tag{3} \\\\[8pt]\n",
        "\\end{align}\n",
        "\n",
        "\n",
        "Ici, $*$ indique une multiplication élément par élément tandis que l'absence de symbole indique une multiplication matricielle. Par ailleurs $d\\hat{y}$ désigne $\\frac{\\partial J}{\\partial \\hat{y}}$, $dW_{xy}$ désigne $\\frac{\\partial J}{\\partial W_{xy}}$, $db_y$ désigne $\\frac{\\partial J}{\\partial b_y}$ et $dx$ désigne $\\frac{\\partial J}{\\partial x}$ (ces noms ont été choisis pour être utilisables dans le code).\n",
        "\n",
        "Il vous reste à déterminer, par vous même, le terme $\\frac{\\partial \\hat{y}}{\\partial z}$, qui constitue en fait la dérivée de la fonction d'activation évaluée en $z$. Par exemple, pour la fonction d'activation linéaire (l'identité), la dérivée est égale à 1 pour tout $z$. A vous de déterminer, et d'implémenter, la dérivée des fonctions *sigmoid* et *relu*. **Attention aux dimensions : $\\frac{\\partial \\hat{y}}{\\partial z}$ est de même dimension que $z$ et $\\hat{y}$ !**\n",
        "\n"
      ]
    },
    {
      "cell_type": "code",
      "execution_count": 14,
      "metadata": {
        "id": "wEi_y3W_rCMc"
      },
      "outputs": [],
      "source": [
        "def dense_layer_backward(dy_hat, Wxy, by, activation, cache):\n",
        "    \"\"\"\n",
        "    Implémente la passe backward de la couche dense.\n",
        "\n",
        "    Arguments :\n",
        "    dy_hat -- Gradient de la fonction objectif par rapport à la sortie ŷ, de dimension (n_y, m)\n",
        "    Wxy -- Matrice de poids multipliant l'entrée, tableau numpy de shape (n_y, n_x)\n",
        "    by -- Biais additif ajouté à la sortie, tableau numpy de dimension (n_y, 1)\n",
        "    cache -- dictionnaire python contenant des variables utiles (issu de dense_layer_forward())\n",
        "\n",
        "    Retourne :\n",
        "    gradients -- dictionnaire python contenant les gradients suivants :\n",
        "                        dx -- Gradient de la fonction objectif par rapport aux entrées, de dimension (n_x, m)\n",
        "                        dby -- Gradient de la fonction objectif par rapport aux biais, de dimension (n_y, 1)\n",
        "                        dWxy -- Gradient de la fonction objectif par rapport aux poids synaptiques Wxy, de dimension (n_y, n_x)\n",
        "    \"\"\"\n",
        "\n",
        "    # Récupérer les informations du cache\n",
        "    (x, z) = cache\n",
        "\n",
        "    ### A COMPLETER\n",
        "    # calcul de la sortie en appliquant l'activation\n",
        "    if activation == 'relu':\n",
        "      dyhat_dz = np.maximum(0, z)\n",
        "    elif activation == 'sigmoid':\n",
        "      dyhat_dz = 1/(1+np.exp(-z))\n",
        "    elif activation == 'linear':\n",
        "      dyhat_dz = z\n",
        "    else:\n",
        "      print(\"Erreur : la fonction d'activation n'est pas implémentée.\")\n",
        "\n",
        "    # calculer le gradient de la perte par rapport à x\n",
        "    dx = np.dot(Wxy.T, dy_hat*dyhat_dz)\n",
        "\n",
        "    # calculer le gradient de la perte par rapport à Wxy\n",
        "    dWxy = np.dot(dy_hat*dyhat_dz, x.T)\n",
        "\n",
        "    # calculer le gradient de la perte par rapport à by\n",
        "    # Attention, dby doit être de dimension (n_y, 1), pensez à positionner l'attribut\n",
        "    # keepdims de la fonction numpy.sum() à True !\n",
        "    dby = np.sum(dy_hat*dyhat_dz, axis=1, keepdims=True)\n",
        "\n",
        "    ### FIN\n",
        "\n",
        "    # Stocker les gradients dans un dictionnaire\n",
        "    gradients = {\"dx\": dx, \"dby\": dby, \"dWxy\": dWxy}\n",
        "\n",
        "    return gradients"
      ]
    },
    {
      "cell_type": "markdown",
      "metadata": {
        "id": "qQGZTgx20JVm"
      },
      "source": [
        "Exécutez la cellule suivante pour vérifier la validité de votre code :"
      ]
    },
    {
      "cell_type": "code",
      "execution_count": 18,
      "metadata": {
        "id": "gGxKksOd0N2F"
      },
      "outputs": [
        {
          "name": "stdout",
          "output_type": "stream",
          "text": [
            "dimensions des différents gradients :\n",
            "dx :  (3, 10)\n",
            "dby :  (2, 1)\n",
            "dWxy :  (2, 3)\n",
            "----------------------------\n",
            "activation relu : gradients =\n",
            " {'dx': array([[ 0.00000000e+00, -1.10584310e+00, -2.24740698e-01,\n",
            "         4.14647322e-01,  0.00000000e+00, -7.52228454e-01,\n",
            "         0.00000000e+00, -5.56804277e-01,  0.00000000e+00,\n",
            "        -3.71889863e-02],\n",
            "       [ 0.00000000e+00, -8.78239404e-01, -1.78484757e-01,\n",
            "         3.29304960e-01,  0.00000000e+00, -2.40904968e-01,\n",
            "         0.00000000e+00, -4.81122881e-01,  0.00000000e+00,\n",
            "        -2.95347806e-02],\n",
            "       [ 0.00000000e+00, -1.65700021e-02, -3.36752461e-03,\n",
            "         6.21309391e-03,  0.00000000e+00, -1.59293220e+00,\n",
            "         0.00000000e+00,  1.64328654e-01,  0.00000000e+00,\n",
            "        -5.57241425e-04]]), 'dby': array([[2.08181231],\n",
            "       [0.97284055]]), 'dWxy': array([[-5.18435099, -2.34641364, -1.3590906 ],\n",
            "       [ 1.2672743 , -2.20416636,  1.4014862 ]])}\n",
            "----------------------------\n",
            "activation sigmoid : gradients =\n",
            " {'dx': array([[-0.1402726 , -0.64023596, -0.14993533,  0.46053013,  0.24186747,\n",
            "        -0.65520092,  0.03973975, -0.13996961, -0.3751523 , -0.65912056],\n",
            "       [-0.08289451, -0.46997912, -0.12562535,  0.31677066,  0.18545818,\n",
            "        -0.314028  ,  0.03235392, -0.16934997, -0.29104393, -0.46692379],\n",
            "       [-0.12857822, -0.1803327 ,  0.02681143,  0.22417816,  0.0330316 ,\n",
            "        -0.92518321, -0.00292442,  0.25606484, -0.03621116, -0.26071064]]), 'dby': array([[1.42377026],\n",
            "       [1.22216875]]), 'dWxy': array([[-2.41259237, -1.09432599, -0.54003523],\n",
            "       [-0.02132549, -1.1114031 ,  0.37020706]])}\n",
            "----------------------------\n",
            "activation linear : gradients =\n",
            " {'dx': array([[ 2.58406941, -0.7653387 , -0.38975097,  0.06586568, -2.66499174,\n",
            "        -0.75222845, -0.12197504, -0.55680428,  0.19725679,  2.20065514],\n",
            "       [ 1.52945843, -0.68291775, -0.27313869,  0.12923528, -1.79908204,\n",
            "        -0.24090497, -0.11369917, -0.48112288,  0.12256361,  1.25414735],\n",
            "       [ 2.3580127 ,  0.32172493, -0.16730708, -0.34030537, -1.44813374,\n",
            "        -1.5929322 ,  0.07283607,  0.16432865,  0.15421798,  2.22276595]]), 'dby': array([[-2.58308287],\n",
            "       [ 2.35429003]]), 'dWxy': array([[-8.77291764, -6.13026826,  2.54930231],\n",
            "       [ 2.50462624, -0.97231612,  2.97130233]])}\n"
          ]
        }
      ],
      "source": [
        "np.random.seed(1)\n",
        "x_tmp = np.random.randn(3,10)\n",
        "Wxy = np.random.randn(2,3)\n",
        "by = np.random.randn(2,1)\n",
        "dy_hat = np.random.randn(2, 10)\n",
        "activation = 'relu'\n",
        "y_pred_tmp, cache_tmp = dense_layer_forward(x_tmp, Wxy, by, activation)\n",
        "gradients = dense_layer_backward(dy_hat, Wxy, by, activation, cache_tmp)\n",
        "print(\"dimensions des différents gradients :\")\n",
        "print(\"dx : \", gradients['dx'].shape)\n",
        "print(\"dby : \", gradients['dby'].shape)\n",
        "print(\"dWxy : \", gradients['dWxy'].shape)\n",
        "\n",
        "print('----------------------------')\n",
        "\n",
        "print(\"activation relu : gradients =\\n\", gradients)\n",
        "\n",
        "print('----------------------------')\n",
        "\n",
        "activation = 'sigmoid'\n",
        "gradients = dense_layer_backward(dy_hat, Wxy, by, activation, cache_tmp)\n",
        "print(\"activation sigmoid : gradients =\\n\", gradients)\n",
        "\n",
        "print('----------------------------')\n",
        "\n",
        "activation = 'linear'\n",
        "gradients = dense_layer_backward(dy_hat, Wxy, by, activation, cache_tmp)\n",
        "print(\"activation linear : gradients =\\n\", gradients)"
      ]
    },
    {
      "cell_type": "markdown",
      "metadata": {
        "id": "5-_jk20X0QIt"
      },
      "source": [
        "**Affichage attendu**:\n",
        "```Python\n",
        "dimensions des différents gradients :\n",
        "dx :  (3, 10)\n",
        "dby :  (2, 1)\n",
        "dWxy :  (2, 3)\n",
        "----------------------------\n",
        "activation relu : gradients =\n",
        " {'dx': array([[ 0.        , -0.52166355, -0.25370565,  0.29772356,  0.        ,\n",
        "        -0.87533798,  0.        , -0.05523234,  0.        , -0.78697273],\n",
        "       [ 0.        , -0.4142952 , -0.20148817,  0.23644635,  0.        ,\n",
        "        -0.43699238,  0.        , -0.14103828,  0.        , -0.62499867],\n",
        "       [ 0.        , -0.00781663, -0.00380154,  0.0044611 ,  0.        ,\n",
        "        -1.15858431,  0.        ,  0.43029667,  0.        , -0.01179203]]), 'dby': array([[1.05545895],\n",
        "       [1.73350613]]), 'dWxy': array([[-3.41036427, -1.30232405, -0.56109731],\n",
        "       [-0.03287152, -0.82109488,  0.98388063]])}\n",
        "----------------------------\n",
        "activation sigmoid : gradients =\n",
        " {'dx': array([[-0.12452463, -0.16508708, -0.02939735,  0.18918939,  0.19365898,\n",
        "        -0.17366309,  0.02947078,  0.03090249, -0.20097835, -0.40773826],\n",
        "       [-0.07359731, -0.10570831, -0.02843055,  0.1189895 ,  0.14755739,\n",
        "        -0.09647417,  0.02411729,  0.00119749, -0.15435059, -0.27725739],\n",
        "       [-0.1141027 , -0.11516714,  0.02211421,  0.14152872,  0.03059908,\n",
        "        -0.18648155, -0.00271799,  0.10403474, -0.02635951, -0.21268142]]), 'dby': array([[0.51620418],\n",
        "       [0.3562789 ]]), 'dWxy': array([[-0.19619895, -0.04346631, -0.0522999 ],\n",
        "       [-0.2464412 , -0.23312061, -0.09313104]])}\n",
        "----------------------------\n",
        "activation linear : gradients =\n",
        " {'dx': array([[-1.24957905, -1.03490637, -0.12102053,  0.91166167,  1.48244289,\n",
        "        -0.87533798,  0.14141685, -0.05523234, -0.84116226, -2.23963678],\n",
        "       [-0.7391886 , -0.70870384, -0.12537673,  0.58861627,  1.06334861,\n",
        "        -0.43699238,  0.12006129, -0.14103828, -0.63891076, -1.4582823 ],\n",
        "       [-1.14209251, -0.51772912,  0.12802262,  0.61441549,  0.52789632,\n",
        "        -1.15858431, -0.03226814,  0.43029667, -0.1418173 , -1.45503003]]), 'dby': array([[3.97266086],\n",
        "       [1.34123607]]), 'dWxy': array([[-1.13528086,  0.37477333, -1.77404551],\n",
        "       [-0.92324845, -1.86932585, -0.37669553]])}\n",
        "\n",
        "```"
      ]
    },
    {
      "cell_type": "markdown",
      "metadata": {
        "id": "E5KeDgyO-ZPJ"
      },
      "source": [
        "On peut maintenant créer une classe *DenseLayer*, qui comprend en attribut toutes les informations nécessaires à la description d'une couche dense, c'est-à-dire :\n",
        "\n",
        "\n",
        "*   Le nombre de neurones en entrée de la couche dense (input_size)\n",
        "*   Le nombre de neurones en sortie de la couche dense (output_size)\n",
        "*   La fonction d'activation choisie sur cette couche (activation)\n",
        "*   Les poids synaptiques de la couche dense, stockés dans une matrice de taille (output_size, input_size) (Wxy)\n",
        "*   Les biais de la couche dense, stockés dans un vecteur de taille (output_size, 1) (by)\n",
        "\n",
        "On ajoute également un attribut cache qui permettra de stocker les entrées de la couche dense (x) ainsi que les calculs intermédiaires (z) réalisés lors de la passe *forward*, afin d'être réutilisés pour la basse *backward*.\n",
        "\n",
        "A vous de compléter les 4 jalons suivants :\n",
        "\n",
        "*   **L'initialisation des paramètres** Wxy et by : Wxy doit être positionnée suivant l'initialisation de Glorot, c'est-à-dire que ses valeurs sont échantillonnées selon une loi uniforme :\n",
        "$$ W_{xy}^{\\{0\\}} \\sim \\mathcal{U}_{\\left[-\\sqrt{\\frac{6}{n_x + n_y}}, \\sqrt{\\frac{6}{n_x + n_y}}\\right]}$$\n",
        "\n",
        "et by est initialisée par un vecteur de zéros de taille (output_size, 1).\n",
        "*   **La fonction *forward***, qui consiste simplement en un appel de la fonction *dense_layer_forward* implémentée précédemment.\n",
        "*   **La fonction *backward***, qui consiste simplement en un appel de la fonction *dense_layer_backward* implémentée précédemment.\n",
        "*   Et enfin **la fonction *update_parameters*** qui applique la mise à jour de la descente de gradient en fonction d'un taux d'apprentissage (*learning_rate*) et des gradients calculés dans la passe *forward*.\n"
      ]
    },
    {
      "cell_type": "code",
      "execution_count": 5,
      "metadata": {
        "id": "u2K9dp1IL3yM"
      },
      "outputs": [],
      "source": [
        "class DenseLayer:\n",
        "    def __init__(self, input_size, output_size, activation):\n",
        "      self.input_size = input_size\n",
        "      self.output_size = output_size\n",
        "      self.activation = activation\n",
        "      self.cache = None  # Le cache sera mis à jour lors de la passe forward\n",
        "      ### A COMPLETER\n",
        "      # Initialisation des poids synaptiques et des biais\n",
        "      self.Wxy = np.random.randn(output_size, input_size) \n",
        "      self.by = np.random.randn(output_size, 1)\n",
        "\n",
        "    def forward(self, x_batch):\n",
        "\n",
        "      y, cache = dense_layer_forward(x_batch, self.Wxy, self.by, self.activation)\n",
        "      self.cache = cache\n",
        "      return y\n",
        "\n",
        "    def backward(self, dy_hat):\n",
        "      return dense_layer_backward(dy_hat, self.Wxy, self.by, self.activation, self.cache)\n",
        "\n",
        "    def update_parameters(self, gradients, learning_rate):\n",
        "      self.Wxy = self.Wxy - learning_rate * gradients['dWxy']\n",
        "      self.by  = self.by - learning_rate * gradients['dby']\n",
        "    ### FIN"
      ]
    },
    {
      "cell_type": "markdown",
      "metadata": {
        "id": "2KMcQzlskdI1"
      },
      "source": [
        "Pour entraîner notre modèle, nous devons mettre en place un optimiseur. Nous implémenterons la descente de gradient stochastique avec mini-batch. Il nous faut cependant au préalable implanter la fonction de coût que nous utiliserons pour évaluer la qualité de nos prédictions.\n",
        "\n",
        "Pour le moment, nous allons nous contenter d'une erreur quadratique moyenne, qui associée à une fonction d'activation linéaire (l'identité) permet de résoudre les problèmes de régression.\n",
        "\n",
        "La fonction de coût prend en entrée deux paramètres : la vérité-terrain *y_true* et la prédiction du modèle *y_pred* ($\\hat{y}$). Ces deux matrices sont de dimension $n_y \\times m$ (où $m$ désigne le nombre d'éléments du *batch*, et $n_y$ le nombre de neurones de la couche de sortie). La fonction retourne deux grandeurs : $J_{mb}$ qui correspond à l'erreur quadratique moyenne des prédictions par rapport aux vérités-terrains, et $d\\hat{y}$ au gradient de l'erreur quadratique moyenne par rapport aux prédictions. Autrement dit :\n",
        "$$ d\\hat{y}  = \\frac{\\partial J_{mb}}{\\partial \\hat{y}}$$\n",
        "\n",
        "où $\\hat{y}$ correspond à *y_pred*, et $J_{mb}$ à la fonction objectif calculée sur un mini-batch $mb$ de données.\n",
        "\n",
        "Dans le cas de l'erreur quadratique moyenne, on a :    \n",
        "\n",
        "$$ J_{mb} = \\frac{1}{m  n_y} \\sum_{i=1}^{n_y} \\sum_{j=1}^{m} (y_{ij} - \\hat{y}_{ij})^2 $$\n",
        "\n",
        "et\n",
        "\n",
        "$$ \\frac{\\partial J_{mb}}{\\partial \\hat{y}} = \\frac{-2}{m  n_y} (y - \\hat{y})$$\n",
        "\n"
      ]
    },
    {
      "cell_type": "code",
      "execution_count": 6,
      "metadata": {
        "id": "FRDUnhJma6jf"
      },
      "outputs": [],
      "source": [
        "### A COMPLETER\n",
        "def mean_square_error(y_true, y_pred):\n",
        "  \"\"\"\n",
        "  Erreur quadratique moyenne entre prédiction et vérité-terrain\n",
        "\n",
        "  Arguments :\n",
        "  y_true -- labels à prédire (vérité-terrain), de dimension (n_y, m)\n",
        "  y_pred -- prédictions du modèle, de dimension (n_y, m)\n",
        "  Retourne :\n",
        "  J_mb -- l'erreur quadratique moyenne entre y_true et y_pred, scalaire\n",
        "  dy_hat -- dérivée partielle de la fonction objectif par rapport à y_pred, de dimension (n_y, m)\n",
        "  \"\"\"\n",
        "  (n_y, m) = y_true.shape\n",
        "  J_mb = np.mean((y_true - y_pred)**2)\n",
        "  dy_hat = -2*(y_true - y_pred)/(n_y*m)\n",
        "  return J_mb, dy_hat"
      ]
    },
    {
      "cell_type": "markdown",
      "metadata": {
        "id": "eNbVKV5K0hWp"
      },
      "source": [
        "Testez votre implémentation avec ce bloc de code :"
      ]
    },
    {
      "cell_type": "code",
      "execution_count": 7,
      "metadata": {
        "id": "Wt-ensXM0jL1"
      },
      "outputs": [
        {
          "name": "stdout",
          "output_type": "stream",
          "text": [
            "J_mb =  2.0281433227730186\n",
            "dy_hat = \n",
            " [[-0.15440041  0.01433353 -0.01060006]\n",
            " [ 0.0151842  -0.10244358  0.15259161]\n",
            " [-0.19080814  0.06637484  0.08938421]\n",
            " [ 0.0660943  -0.1102629   0.07816745]\n",
            " [-0.02831607  0.13843393 -0.07219745]\n",
            " [ 0.03085971  0.02422291  0.1985409 ]\n",
            " [ 0.00519635  0.00229253  0.09338597]\n",
            " [-0.09979824 -0.13627393 -0.05678914]\n",
            " [-0.07398335  0.08469007  0.06412491]\n",
            " [ 0.1244581   0.03689836  0.02365238]]\n"
          ]
        }
      ],
      "source": [
        "np.random.seed(1)\n",
        "y_true = np.random.randn(10,3)\n",
        "y_pred = np.random.randn(10,3)\n",
        "\n",
        "J_mb, dy_hat = mean_square_error(y_true, y_pred)\n",
        "print(\"J_mb = \", J_mb)\n",
        "print(\"dy_hat = \\n\", dy_hat)\n"
      ]
    },
    {
      "cell_type": "markdown",
      "metadata": {
        "id": "2RcgS5JJ0lcY"
      },
      "source": [
        "**Affichage attendu**:\n",
        "```Python\n",
        "J_mb =  2.0281433227730186\n",
        "dy_hat =\n",
        " [[-0.15440041  0.01433353 -0.01060006]\n",
        " [ 0.0151842  -0.10244358  0.15259161]\n",
        " [-0.19080814  0.06637484  0.08938421]\n",
        " [ 0.0660943  -0.1102629   0.07816745]\n",
        " [-0.02831607  0.13843393 -0.07219745]\n",
        " [ 0.03085971  0.02422291  0.1985409 ]\n",
        " [ 0.00519635  0.00229253  0.09338597]\n",
        " [-0.09979824 -0.13627393 -0.05678914]\n",
        " [-0.07398335  0.08469007  0.06412491]\n",
        " [ 0.1244581   0.03689836  0.02365238]]\n",
        "\n",
        "```"
      ]
    },
    {
      "cell_type": "markdown",
      "metadata": {
        "id": "uZRnPbBjQvZc"
      },
      "source": [
        "### Descente de gradient stochastique"
      ]
    },
    {
      "cell_type": "markdown",
      "metadata": {
        "id": "w2XnUBj2n-Df"
      },
      "source": [
        "La descente de gradient stochastique prend en entrée les paramètres suivants :  \n",
        "*    *x_train* et *y_train* respectivement les données et labels de l'ensemble d'apprentissage (que l'on suppose de taille $N$).\n",
        "*    *model* une instance du modèle que l'on veut entraîner (qui doit implanter les 3 fonctions vues précédemment *forward*, *backward* et *update_parameters*).\n",
        "*    *loss_function* peut prendre deux valeurs : 'mse' (erreur quadratique moyenne) ou 'bce' (entropie croisée binaire, que nous implémenterons par la suite).\n",
        "*    *learning_rate* le taux d'apprentissage choisi pour la descente de gradient.\n",
        "*    *epochs* le nombre de parcours complets de l'ensemble d'apprentissage que l'on veut réaliser.\n",
        "*    *batch_size* la taille de mini-batch désirée pour la descente de gradient stochastique.\n",
        "\n",
        "L'algorithme à implémenter est rappelé ci-dessous :       \n",
        "```\n",
        "N_batch = floor(N/batch_size)\n",
        "\n",
        "Répéter epochs fois\n",
        "\n",
        "  Pour b de 1 à N_batch Faire\n",
        "\n",
        "    - Sélectionner les données x_train_batch et labels y_train_batch du b-ème mini-batch\n",
        "    - Calculer la prédiction y_pred_batch du modèle pour ce mini-batch\n",
        "    - Calculer la perte batch_loss et le gradient de la perte batch_grad par rapport aux prédictions sur ce mini-batch\n",
        "    - Calculer les gradients de la perte par rapport à chaque paramètre du modèle\n",
        "    - Mettre à jour les paramètres du modèle\n",
        "\n",
        "  Fin Pour\n",
        "\n",
        "Fin Répéter\n",
        "\n",
        "```\n",
        "Deux remarques additionnelles :    \n",
        "1. A chaque *epoch*, les *mini-batches* doivent être différents (les données doivent être réparties dans différents *mini-batches*).\n",
        "2. Il est intéressant de calculer (et d'afficher !) la perte moyennée sur l'ensemble d'apprentissage à chaque *epoch*. Pour cela, on peut accumuler les pertes de chaque *mini-batch* sur une *epoch* et diviser l'ensemble par le nombre de *mini-batches*."
      ]
    },
    {
      "cell_type": "code",
      "execution_count": 19,
      "metadata": {
        "id": "lk3lypUOLXbv"
      },
      "outputs": [],
      "source": [
        "def SGD(x_train, y_train, model, loss_function, learning_rate=0.03, epochs=10, batch_size=10):\n",
        "  \"\"\"\n",
        "  Implémente la descente de gradient stochastique\n",
        "\n",
        "  Arguments :\n",
        "  x_train -- Les données d'apprentissage, de dimension (N, n_x) ; ATTENTION ces\n",
        "             dimensions sont inversées par rapport aux premiers exercices\n",
        "  y_train -- Les labels d'apprentissage, de dimension (N, n_y)\n",
        "  model -- Le modèle initialisé, à optimiser.\n",
        "  loss_function -- la fonction de coût à utiliser pour l'optimisation, qui pourra\n",
        "                   être 'mse' (erreur quadratique moyenne) ou 'bce' (entropie croisée binaire)\n",
        "  learning_rate -- le taux d'apprentissage pour la descente de gradient\n",
        "  epochs -- le nombre de parcours complets de l'ensemble d'apprentissage\n",
        "  batch_size -- le nombre d'éléments considérés dans chaque mini-batch de données\n",
        "\n",
        "  Retourne :\n",
        "  model -- le modèle obtenu à la fin du processus d'optimisation\n",
        "  \"\"\"\n",
        "  # Nombre de batches par epoch\n",
        "  nb_batches = math.floor(x_train.shape[0] / batch_size)\n",
        "\n",
        "  # Pour gérer le tirage aléatoire des batches parmi les données d'entraînement...\n",
        "  indices = np.arange(x_train.shape[0])\n",
        "\n",
        "  for e in range(epochs):\n",
        "\n",
        "    running_loss = 0\n",
        "\n",
        "    # Nouvelle permutation des indices pour la prochaine epoch\n",
        "    indices = np.random.permutation(indices)\n",
        "\n",
        "    for b in range(nb_batches):\n",
        "\n",
        "      # Sélection des données du batch courant\n",
        "      x_train_batch = x_train[indices[b*batch_size:(b+1)*batch_size]]\n",
        "      y_train_batch = y_train[indices[b*batch_size:(b+1)*batch_size]]\n",
        "\n",
        "      # A ce stade les données et labels du batch sont de dimension (m, n_x) et\n",
        "      # (m, n_y), il faut les transposer pour que les variables soient de la\n",
        "      # dimension attendue par le code que nous avons écrit précédemment\n",
        "      x_train_batch = np.transpose(x_train_batch)\n",
        "      y_train_batch = np.transpose(y_train_batch)\n",
        "\n",
        "      ### A COMPLETER\n",
        "      # Prédiction du modèle pour le batch courant\n",
        "      y_pred_batch = model.forward(x_train_batch)\n",
        "\n",
        "      # Calcul de la fonction objectif et de son gradient sur le batch courant\n",
        "      if loss_function == 'mse':\n",
        "        batch_loss, batch_dy_hat = mean_square_error(y_train_batch, y_pred_batch)\n",
        "      elif loss_function == 'bce':\n",
        "        batch_loss, batch_dy_hat = binary_cross_entropy(y_train_batch, y_pred_batch)\n",
        "\n",
        "      running_loss += batch_loss\n",
        "\n",
        "      # Calcul du gradient de la perte par rapport aux paramètres du modèle\n",
        "      param_updates = model.backward(batch_dy_hat)\n",
        "\n",
        "      # Mise à jour des paramètres du modèle\n",
        "      model.update_parameters(param_updates, learning_rate)\n",
        "      ### FIN\n",
        "\n",
        "    print(f\"Epoch {e:4d} : Loss {running_loss/nb_batches:.4f}\")\n",
        "\n",
        "\n",
        "  return model\n"
      ]
    },
    {
      "cell_type": "markdown",
      "metadata": {
        "id": "9bybDhHivjXq"
      },
      "source": [
        "### Test sur un problème de régression"
      ]
    },
    {
      "cell_type": "markdown",
      "metadata": {
        "id": "N7q44eS0vrrZ"
      },
      "source": [
        "Le bloc de code suivant permet de générer et d'afficher un ensemble de données pour un problème de régression linéaire classique."
      ]
    },
    {
      "cell_type": "code",
      "execution_count": 34,
      "metadata": {
        "id": "nGcIVuALraDG"
      },
      "outputs": [
        {
          "name": "stdout",
          "output_type": "stream",
          "text": [
            "[[ 1.19891788e+00]\n",
            " [-8.59515941e-01]\n",
            " [-1.34267579e+00]\n",
            " [ 4.23494354e-01]\n",
            " [-1.01745873e-01]\n",
            " [-1.10447026e-01]\n",
            " [-3.22417204e-01]\n",
            " [ 2.13533901e-01]\n",
            " [-1.07296862e+00]\n",
            " [ 7.42044161e-01]\n",
            " [-4.47128565e-01]\n",
            " [-1.72428208e-01]\n",
            " [-1.61577235e+00]\n",
            " [-1.18231813e+00]\n",
            " [ 5.20576337e-01]\n",
            " [-3.43853676e-01]\n",
            " [-2.03394449e-01]\n",
            " [-8.45205641e-01]\n",
            " [-1.65072127e+00]\n",
            " [ 1.96710175e+00]\n",
            " [-1.80920302e-01]\n",
            " [ 4.95211324e-01]\n",
            " [-1.11911540e+00]\n",
            " [ 1.03882460e+00]\n",
            " [ 9.00855949e-01]\n",
            " [-7.55717130e-02]\n",
            " [ 1.90915485e-01]\n",
            " [-2.48634778e-01]\n",
            " [ 7.50411640e-01]\n",
            " [ 1.90465871e+00]\n",
            " [-6.65754518e-01]\n",
            " [ 2.32494559e-01]\n",
            " [ 3.15159392e-01]\n",
            " [-2.66218506e-01]\n",
            " [ 6.17203110e-01]\n",
            " [ 6.23362177e-01]\n",
            " [ 1.11438298e+00]\n",
            " [-1.11731035e+00]\n",
            " [ 1.55880554e+00]\n",
            " [-5.28171752e-01]\n",
            " [-6.17362064e-01]\n",
            " [ 6.61020288e-01]\n",
            " [-6.03920628e-01]\n",
            " [ 5.02494339e-01]\n",
            " [-1.37311732e+00]\n",
            " [ 5.62761097e-01]\n",
            " [ 2.10025514e+00]\n",
            " [-1.36444744e-01]\n",
            " [-1.91835552e-01]\n",
            " [-3.84054355e-01]\n",
            " [-1.20464572e-01]\n",
            " [-6.11756414e-01]\n",
            " [ 3.77563786e-01]\n",
            " [ 1.04444209e+00]\n",
            " [-2.08894233e-01]\n",
            " [-4.00878192e-01]\n",
            " [-2.00758069e-01]\n",
            " [ 1.62434536e+00]\n",
            " [ 4.03491642e-01]\n",
            " [ 6.82551407e-01]\n",
            " [ 2.19069973e+00]\n",
            " [ 1.22450770e+00]\n",
            " [-3.26499498e-01]\n",
            " [ 1.74481176e+00]\n",
            " [ 4.41364444e-01]\n",
            " [ 9.01590721e-01]\n",
            " [-2.22328143e-01]\n",
            " [-7.00398505e-01]\n",
            " [ 1.20158952e-01]\n",
            " [-2.46169559e-02]\n",
            " [-8.87628964e-01]\n",
            " [ 1.62765075e+00]\n",
            " [ 2.42669441e-01]\n",
            " [-1.19926803e+00]\n",
            " [ 8.63345318e-01]\n",
            " [ 9.31102081e-01]\n",
            " [-1.22890226e-01]\n",
            " [-1.44411381e+00]\n",
            " [ 2.18697965e+00]\n",
            " [-6.20000844e-01]\n",
            " [-7.75161619e-01]\n",
            " [ 4.08900538e-01]\n",
            " [ 8.46160648e-01]\n",
            " [-1.23005814e+00]\n",
            " [ 7.62011180e-01]\n",
            " [ 8.10951673e-01]\n",
            " [ 9.86335188e-01]\n",
            " [ 1.27375593e+00]\n",
            " [-6.36995647e-01]\n",
            " [ 2.52832571e+00]\n",
            " [-5.62305431e-01]\n",
            " [ 5.50537496e-01]\n",
            " [ 2.01830179e-01]\n",
            " [-2.98092835e-01]\n",
            " [ 2.30094735e-01]\n",
            " [ 5.29465324e-01]\n",
            " [-1.00155233e-01]\n",
            " [ 6.02319280e-01]\n",
            " [-5.45774168e-01]\n",
            " [ 1.12141771e+00]\n",
            " [ 1.33145711e+00]\n",
            " [ 4.35968568e-02]\n",
            " [-9.35769434e-01]\n",
            " [ 1.60037069e-01]\n",
            " [-6.38730407e-01]\n",
            " [-7.54397941e-01]\n",
            " [-5.04465863e-01]\n",
            " [-6.87172700e-01]\n",
            " [-3.10984978e-01]\n",
            " [ 2.80665077e-01]\n",
            " [ 5.12929820e-01]\n",
            " [ 8.85141164e-01]\n",
            " [-1.62743834e+00]\n",
            " [-1.39649634e+00]\n",
            " [ 6.98032034e-01]\n",
            " [ 1.79215821e+00]\n",
            " [-6.83727859e-01]\n",
            " [ 3.26145467e-02]\n",
            " [ 2.18557541e+00]\n",
            " [ 6.18539131e-01]\n",
            " [ 4.10051647e-01]\n",
            " [-1.98837863e-01]\n",
            " [ 8.38983414e-01]\n",
            " [-2.06014071e+00]\n",
            " [-1.33195167e+00]\n",
            " [ 1.65980218e+00]\n",
            " [ 6.18380262e-01]\n",
            " [-6.23530730e-01]\n",
            " [ 9.01486892e-01]\n",
            " [-6.91660752e-01]\n",
            " [-6.71246131e-01]\n",
            " [ 1.19008646e-01]\n",
            " [-2.02220122e+00]\n",
            " [-1.26645989e-02]\n",
            " [-7.31127037e-02]\n",
            " [ 2.44936865e+00]\n",
            " [-1.89636092e+00]\n",
            " [-2.96641152e-01]\n",
            " [ 8.68886157e-01]\n",
            " [-7.47158294e-01]\n",
            " [-9.97026828e-01]\n",
            " [-1.85798186e+00]\n",
            " [-1.10061918e+00]\n",
            " [ 1.13376944e+00]\n",
            " [-4.34956683e-01]\n",
            " [ 1.14472371e+00]\n",
            " [ 7.40556451e-01]\n",
            " [ 4.22137467e-02]\n",
            " [ 3.19039096e-01]\n",
            " [-1.14434139e+00]\n",
            " [-1.12201873e+00]\n",
            " [-3.49342722e-01]\n",
            " [ 1.85156417e-01]\n",
            " [ 3.15634947e-01]\n",
            " [ 8.76168921e-01]\n",
            " [-1.86569772e-01]\n",
            " [ 7.78211279e-02]\n",
            " [ 1.51981682e+00]\n",
            " [ 1.74094083e-02]\n",
            " [ 7.92806866e-01]\n",
            " [ 5.93578523e-01]\n",
            " [-2.49370375e-01]\n",
            " [ 6.74711526e-01]\n",
            " [-9.53700602e-01]\n",
            " [ 1.46210794e+00]\n",
            " [-3.10116774e-01]\n",
            " [-3.52249846e-01]\n",
            " [ 3.38011697e-01]\n",
            " [-1.23685338e+00]\n",
            " [ 2.85587325e-01]\n",
            " [-2.87307863e-01]\n",
            " [ 8.75838928e-01]\n",
            " [-1.76068856e+00]\n",
            " [ 7.73400683e-02]\n",
            " [ 1.21821271e-01]\n",
            " [-1.09491185e+00]\n",
            " [ 3.13547720e-01]\n",
            " [ 3.50545979e-01]\n",
            " [ 1.16033857e+00]\n",
            " [-1.21974440e+00]\n",
            " [ 1.23616403e+00]\n",
            " [-1.31228341e+00]\n",
            " [-2.43483776e+00]\n",
            " [-6.46916688e-01]\n",
            " [-3.19801599e-01]\n",
            " [ 6.80069840e-01]\n",
            " [-4.98213564e-01]\n",
            " [-3.06204013e-01]\n",
            " [ 1.29101580e-01]\n",
            " [ 4.65672984e-02]\n",
            " [-1.67419581e+00]\n",
            " [ 8.65407629e-01]\n",
            " [ 5.03184813e-01]\n",
            " [-1.74703160e-01]\n",
            " [ 8.27974643e-01]\n",
            " [ 2.48799161e-01]\n",
            " [ 1.69382433e-01]\n",
            " [-1.27255876e+00]\n",
            " [ 3.69492716e-01]\n",
            " [-3.75284950e-01]\n",
            " [ 3.00170320e-01]\n",
            " [ 1.61694960e+00]\n",
            " [ 5.86623191e-01]\n",
            " [ 1.69245460e+00]\n",
            " [-3.86955093e-02]\n",
            " [ 1.09402696e-01]\n",
            " [ 1.29322588e+00]\n",
            " [ 5.30355467e-01]\n",
            " [-5.86523939e-01]\n",
            " [-1.89148284e-03]\n",
            " [ 1.25286816e+00]\n",
            " [-6.70662286e-01]\n",
            " [ 5.02740882e-01]\n",
            " [-1.39662042e+00]\n",
            " [ 8.25029824e-01]\n",
            " [ 1.95607890e+00]\n",
            " [ 1.37701210e-01]\n",
            " [-1.19054188e-01]\n",
            " [ 8.01861032e-01]\n",
            " [ 1.81053491e+00]\n",
            " [-1.30572692e+00]\n",
            " [-8.77858418e-01]\n",
            " [ 5.82815214e-01]\n",
            " [-2.67888080e-01]\n",
            " [ 1.12948391e+00]\n",
            " [ 6.59049796e-01]\n",
            " [ 4.20282204e-01]\n",
            " [-1.14251820e+00]\n",
            " [ 1.11105670e+00]\n",
            " [-1.09989127e+00]\n",
            " [-4.43171931e-01]\n",
            " [-8.61316361e-01]\n",
            " [ 8.24005618e-01]\n",
            " [-2.26314243e-01]\n",
            " [ 2.34415698e-01]\n",
            " [ 4.88518147e-01]\n",
            " [ 5.08077548e-02]\n",
            " [ 1.86561391e-01]\n",
            " [ 1.95487808e+00]\n",
            " [ 4.36689932e-02]\n",
            " [-5.17094458e-01]\n",
            " [ 1.13162939e+00]\n",
            " [-1.23312074e+00]\n",
            " [-7.61206901e-01]\n",
            " [ 1.40754000e+00]\n",
            " [-3.96753527e-01]\n",
            " [ 2.40737092e-01]\n",
            " [ 1.98299720e-01]\n",
            " [-8.90555584e-01]\n",
            " [-2.30153870e+00]]\n",
            "[ 24.29649998  -8.97237341 -32.12106885  14.19658235 -13.92952026\n",
            "  -0.4826415    3.44858301  -6.46666511 -25.86208334  17.61450301\n",
            "  -2.70904044   8.54283628 -28.97057055 -20.34141574  16.47840372\n",
            " -22.67066657  -7.67639525 -23.26336204 -45.36859391  54.02750568\n",
            "  -0.37863987   0.42019513 -30.12468602  26.82210352  35.64992699\n",
            "   3.41946326 -10.37931703 -25.6085097   12.36713478  53.94006867\n",
            "  -2.43568928   7.46067121   9.93763549   0.98696357  23.87112078\n",
            "  16.89750638  29.30515555 -28.58640142  38.56582191 -24.35182195\n",
            " -12.14389042  28.20368706 -25.80016293   5.8775601  -52.39246295\n",
            "  26.56015809  49.51462399  11.27306248 -10.98158498  -7.82249577\n",
            "   1.79727674 -23.82191612  -0.55048552  21.30837648  -4.13962416\n",
            " -21.19555419 -31.94967571  38.3350017   11.90331894  24.46696625\n",
            "  67.48110789  22.8961276  -10.50707549  31.50343291  16.74093916\n",
            "  32.30937632 -17.17010452 -27.14707834  -3.6056338    1.22211065\n",
            " -28.3690069   36.22544494  -2.49553024 -35.28073902   9.51122098\n",
            "  22.26098954   1.49459926 -21.23290903  50.4345313  -18.10377974\n",
            " -37.73903226   7.92696454  21.58062139 -16.21252567  34.08585926\n",
            "  32.13510736  16.44251043  28.33967107 -15.54332346  59.55560853\n",
            " -20.67891797   9.44160509  10.73235828  -8.68641989   2.23866541\n",
            "  15.08181296   2.96217906  23.72303487 -15.92022302  26.45835999\n",
            "  44.88674458  -4.78106151 -21.48354669  -6.21288524 -12.57642669\n",
            " -21.24966403 -14.5381428   -6.51673536 -11.00993623  -9.66659686\n",
            "   2.55887738  38.94048968 -45.66464479 -36.97379822  19.51143521\n",
            "  49.09554658 -18.7571838    0.96396757  60.60213619  11.98876497\n",
            "   8.37729904 -18.33377093  25.26174478 -47.12674221 -22.0645504\n",
            "  40.43758819  15.12242262 -23.64096596  20.04521131 -19.79092589\n",
            "  -4.67578761   0.77355281 -54.66635598  10.81309914   3.93016344\n",
            "  56.60242224 -42.78416651  10.42276228  56.03651811  -8.63490777\n",
            " -45.38077962 -50.2540262  -18.3580449   39.71666047  -5.55860897\n",
            "  13.23469729   7.50148064  -8.1639399   -0.50406704 -41.83230738\n",
            " -26.36924976   2.49321741   0.25240552   6.66659097  24.00373178\n",
            "   2.63097827   5.21268724  43.14725912  -2.78322355  24.34112789\n",
            "  -3.29298501   1.37538359  13.45168135 -41.98309009  49.08062832\n",
            "  -8.05441862 -12.03574406   6.70611908 -35.98539561   3.62147678\n",
            "  -5.86544265  13.96445442 -32.49872268   4.24299101   3.05666341\n",
            " -19.71365319  14.12834632   3.53486121  46.07109726 -39.23804809\n",
            "  15.46192321 -11.87662282 -64.17006519 -25.69910474  11.32826849\n",
            "  10.78296807   2.5484218  -13.04020141   8.0657702   -0.56958653\n",
            " -55.20085112  28.12057941  11.69468502  -5.39311879  33.61163814\n",
            "   3.44743688   1.30627275 -27.36812373  15.31593297  -0.98879755\n",
            "   7.76650783  35.43598993  30.33684433  31.15871079 -15.27500575\n",
            "   6.95800506  28.21531107  38.37051854 -20.98410278  -4.27736896\n",
            "  27.25951978 -12.70386481  23.89351339 -45.05297039  26.91495796\n",
            "  42.35961833  -9.24789346   8.58400198  13.87344784  36.03742386\n",
            "   2.19524011 -15.88685832  22.44230284   8.64113267  23.72884466\n",
            "  21.59321052   2.40602991 -30.3842854   22.04886478 -15.8691473\n",
            "  -2.67576037 -24.98630621  13.20320617   1.9104003   -7.8067455\n",
            "  23.15728906  -5.59810381  18.40278285  56.21022162  12.2065454\n",
            " -13.27383989  36.76922091 -42.02913579 -13.76837512  14.57236069\n",
            " -18.44013146  17.14061754  12.95587449 -27.43290939 -31.91739109]\n",
            "[[ 24.29649998]\n",
            " [ -8.97237341]\n",
            " [-32.12106885]\n",
            " [ 14.19658235]\n",
            " [-13.92952026]\n",
            " [ -0.4826415 ]\n",
            " [  3.44858301]\n",
            " [ -6.46666511]\n",
            " [-25.86208334]\n",
            " [ 17.61450301]\n",
            " [ -2.70904044]\n",
            " [  8.54283628]\n",
            " [-28.97057055]\n",
            " [-20.34141574]\n",
            " [ 16.47840372]\n",
            " [-22.67066657]\n",
            " [ -7.67639525]\n",
            " [-23.26336204]\n",
            " [-45.36859391]\n",
            " [ 54.02750568]\n",
            " [ -0.37863987]\n",
            " [  0.42019513]\n",
            " [-30.12468602]\n",
            " [ 26.82210352]\n",
            " [ 35.64992699]\n",
            " [  3.41946326]\n",
            " [-10.37931703]\n",
            " [-25.6085097 ]\n",
            " [ 12.36713478]\n",
            " [ 53.94006867]\n",
            " [ -2.43568928]\n",
            " [  7.46067121]\n",
            " [  9.93763549]\n",
            " [  0.98696357]\n",
            " [ 23.87112078]\n",
            " [ 16.89750638]\n",
            " [ 29.30515555]\n",
            " [-28.58640142]\n",
            " [ 38.56582191]\n",
            " [-24.35182195]\n",
            " [-12.14389042]\n",
            " [ 28.20368706]\n",
            " [-25.80016293]\n",
            " [  5.8775601 ]\n",
            " [-52.39246295]\n",
            " [ 26.56015809]\n",
            " [ 49.51462399]\n",
            " [ 11.27306248]\n",
            " [-10.98158498]\n",
            " [ -7.82249577]\n",
            " [  1.79727674]\n",
            " [-23.82191612]\n",
            " [ -0.55048552]\n",
            " [ 21.30837648]\n",
            " [ -4.13962416]\n",
            " [-21.19555419]\n",
            " [-31.94967571]\n",
            " [ 38.3350017 ]\n",
            " [ 11.90331894]\n",
            " [ 24.46696625]\n",
            " [ 67.48110789]\n",
            " [ 22.8961276 ]\n",
            " [-10.50707549]\n",
            " [ 31.50343291]\n",
            " [ 16.74093916]\n",
            " [ 32.30937632]\n",
            " [-17.17010452]\n",
            " [-27.14707834]\n",
            " [ -3.6056338 ]\n",
            " [  1.22211065]\n",
            " [-28.3690069 ]\n",
            " [ 36.22544494]\n",
            " [ -2.49553024]\n",
            " [-35.28073902]\n",
            " [  9.51122098]\n",
            " [ 22.26098954]\n",
            " [  1.49459926]\n",
            " [-21.23290903]\n",
            " [ 50.4345313 ]\n",
            " [-18.10377974]\n",
            " [-37.73903226]\n",
            " [  7.92696454]\n",
            " [ 21.58062139]\n",
            " [-16.21252567]\n",
            " [ 34.08585926]\n",
            " [ 32.13510736]\n",
            " [ 16.44251043]\n",
            " [ 28.33967107]\n",
            " [-15.54332346]\n",
            " [ 59.55560853]\n",
            " [-20.67891797]\n",
            " [  9.44160509]\n",
            " [ 10.73235828]\n",
            " [ -8.68641989]\n",
            " [  2.23866541]\n",
            " [ 15.08181296]\n",
            " [  2.96217906]\n",
            " [ 23.72303487]\n",
            " [-15.92022302]\n",
            " [ 26.45835999]\n",
            " [ 44.88674458]\n",
            " [ -4.78106151]\n",
            " [-21.48354669]\n",
            " [ -6.21288524]\n",
            " [-12.57642669]\n",
            " [-21.24966403]\n",
            " [-14.5381428 ]\n",
            " [ -6.51673536]\n",
            " [-11.00993623]\n",
            " [ -9.66659686]\n",
            " [  2.55887738]\n",
            " [ 38.94048968]\n",
            " [-45.66464479]\n",
            " [-36.97379822]\n",
            " [ 19.51143521]\n",
            " [ 49.09554658]\n",
            " [-18.7571838 ]\n",
            " [  0.96396757]\n",
            " [ 60.60213619]\n",
            " [ 11.98876497]\n",
            " [  8.37729904]\n",
            " [-18.33377093]\n",
            " [ 25.26174478]\n",
            " [-47.12674221]\n",
            " [-22.0645504 ]\n",
            " [ 40.43758819]\n",
            " [ 15.12242262]\n",
            " [-23.64096596]\n",
            " [ 20.04521131]\n",
            " [-19.79092589]\n",
            " [ -4.67578761]\n",
            " [  0.77355281]\n",
            " [-54.66635598]\n",
            " [ 10.81309914]\n",
            " [  3.93016344]\n",
            " [ 56.60242224]\n",
            " [-42.78416651]\n",
            " [ 10.42276228]\n",
            " [ 56.03651811]\n",
            " [ -8.63490777]\n",
            " [-45.38077962]\n",
            " [-50.2540262 ]\n",
            " [-18.3580449 ]\n",
            " [ 39.71666047]\n",
            " [ -5.55860897]\n",
            " [ 13.23469729]\n",
            " [  7.50148064]\n",
            " [ -8.1639399 ]\n",
            " [ -0.50406704]\n",
            " [-41.83230738]\n",
            " [-26.36924976]\n",
            " [  2.49321741]\n",
            " [  0.25240552]\n",
            " [  6.66659097]\n",
            " [ 24.00373178]\n",
            " [  2.63097827]\n",
            " [  5.21268724]\n",
            " [ 43.14725912]\n",
            " [ -2.78322355]\n",
            " [ 24.34112789]\n",
            " [ -3.29298501]\n",
            " [  1.37538359]\n",
            " [ 13.45168135]\n",
            " [-41.98309009]\n",
            " [ 49.08062832]\n",
            " [ -8.05441862]\n",
            " [-12.03574406]\n",
            " [  6.70611908]\n",
            " [-35.98539561]\n",
            " [  3.62147678]\n",
            " [ -5.86544265]\n",
            " [ 13.96445442]\n",
            " [-32.49872268]\n",
            " [  4.24299101]\n",
            " [  3.05666341]\n",
            " [-19.71365319]\n",
            " [ 14.12834632]\n",
            " [  3.53486121]\n",
            " [ 46.07109726]\n",
            " [-39.23804809]\n",
            " [ 15.46192321]\n",
            " [-11.87662282]\n",
            " [-64.17006519]\n",
            " [-25.69910474]\n",
            " [ 11.32826849]\n",
            " [ 10.78296807]\n",
            " [  2.5484218 ]\n",
            " [-13.04020141]\n",
            " [  8.0657702 ]\n",
            " [ -0.56958653]\n",
            " [-55.20085112]\n",
            " [ 28.12057941]\n",
            " [ 11.69468502]\n",
            " [ -5.39311879]\n",
            " [ 33.61163814]\n",
            " [  3.44743688]\n",
            " [  1.30627275]\n",
            " [-27.36812373]\n",
            " [ 15.31593297]\n",
            " [ -0.98879755]\n",
            " [  7.76650783]\n",
            " [ 35.43598993]\n",
            " [ 30.33684433]\n",
            " [ 31.15871079]\n",
            " [-15.27500575]\n",
            " [  6.95800506]\n",
            " [ 28.21531107]\n",
            " [ 38.37051854]\n",
            " [-20.98410278]\n",
            " [ -4.27736896]\n",
            " [ 27.25951978]\n",
            " [-12.70386481]\n",
            " [ 23.89351339]\n",
            " [-45.05297039]\n",
            " [ 26.91495796]\n",
            " [ 42.35961833]\n",
            " [ -9.24789346]\n",
            " [  8.58400198]\n",
            " [ 13.87344784]\n",
            " [ 36.03742386]\n",
            " [  2.19524011]\n",
            " [-15.88685832]\n",
            " [ 22.44230284]\n",
            " [  8.64113267]\n",
            " [ 23.72884466]\n",
            " [ 21.59321052]\n",
            " [  2.40602991]\n",
            " [-30.3842854 ]\n",
            " [ 22.04886478]\n",
            " [-15.8691473 ]\n",
            " [ -2.67576037]\n",
            " [-24.98630621]\n",
            " [ 13.20320617]\n",
            " [  1.9104003 ]\n",
            " [ -7.8067455 ]\n",
            " [ 23.15728906]\n",
            " [ -5.59810381]\n",
            " [ 18.40278285]\n",
            " [ 56.21022162]\n",
            " [ 12.2065454 ]\n",
            " [-13.27383989]\n",
            " [ 36.76922091]\n",
            " [-42.02913579]\n",
            " [-13.76837512]\n",
            " [ 14.57236069]\n",
            " [-18.44013146]\n",
            " [ 17.14061754]\n",
            " [ 12.95587449]\n",
            " [-27.43290939]\n",
            " [-31.91739109]]\n"
          ]
        },
        {
          "data": {
            "image/png": "[encoded data removed]",
            "text/plain": [
              "<Figure size 640x480 with 1 Axes>"
            ]
          },
          "metadata": {},
          "output_type": "display_data"
        }
      ],
      "source": [
        "# Préparation des données\n",
        "x, y = datasets.make_regression(n_samples=250, n_features=1, n_targets=1, random_state=1, noise=10)\n",
        "print(x)\n",
        "print(y)\n",
        "y = np.expand_dims(y, 1)\n",
        "print(y)\n",
        "\n",
        "plt.plot(x, y, 'b.', label='Ensemble d\\'apprentissage')\n",
        "\n",
        "plt.legend()\n",
        "plt.show()"
      ]
    },
    {
      "cell_type": "markdown",
      "metadata": {
        "id": "q7lfdRFMRFZH"
      },
      "source": [
        "A vous de déterminer le nombre de neurones à positionner en entrée et en sortie du perceptron monocouche pour résoudre ce problème. Une fois ceci fait, le code ci-après affiche également la prédiction de votre modèle."
      ]
    },
    {
      "cell_type": "code",
      "execution_count": 45,
      "metadata": {
        "id": "GKFJ3c2MmomL"
      },
      "outputs": [
        {
          "name": "stdout",
          "output_type": "stream",
          "text": [
            "Epoch    0 : Loss nan\n",
            "Epoch    1 : Loss nan\n",
            "Epoch    2 : Loss nan\n",
            "Epoch    3 : Loss nan\n",
            "Epoch    4 : Loss nan\n",
            "Epoch    5 : Loss nan\n",
            "Epoch    6 : Loss nan\n",
            "Epoch    7 : Loss nan\n",
            "Epoch    8 : Loss nan\n",
            "Epoch    9 : Loss nan\n"
          ]
        },
        {
          "name": "stderr",
          "output_type": "stream",
          "text": [
            "C:\\Users\\elgue\\AppData\\Local\\Temp\\ipykernel_16020\\1720789193.py:14: RuntimeWarning: overflow encountered in square\n",
            "  J_mb = np.mean((y_true - y_pred)**2)\n",
            "C:\\Users\\elgue\\AppData\\Local\\Temp\\ipykernel_16020\\3424529386.py:33: RuntimeWarning: overflow encountered in multiply\n",
            "  dx = np.dot(Wxy.T, dy_hat*dyhat_dz)\n",
            "C:\\Users\\elgue\\AppData\\Local\\Temp\\ipykernel_16020\\3424529386.py:36: RuntimeWarning: overflow encountered in multiply\n",
            "  dWxy = np.dot(dy_hat*dyhat_dz, x.T)\n",
            "C:\\Users\\elgue\\AppData\\Local\\Temp\\ipykernel_16020\\3424529386.py:41: RuntimeWarning: overflow encountered in multiply\n",
            "  dby = np.sum(dy_hat*dyhat_dz, axis=1, keepdims=True)\n"
          ]
        },
        {
          "data": {
            "image/png": "[encoded data removed]",
            "text/plain": [
              "<Figure size 640x480 with 1 Axes>"
            ]
          },
          "metadata": {},
          "output_type": "display_data"
        }
      ],
      "source": [
        "### A COMPLETER\n",
        "\n",
        "model = DenseLayer(1, 1, 'linear')\n",
        "model = SGD(x, y, model, 'mse', learning_rate=0.1, epochs=10, batch_size=20)\n",
        "### FIN\n",
        "\n",
        "plt.plot(x, y, 'b.', label='Ensemble d\\'apprentissage')\n",
        "\n",
        "x_gen = np.expand_dims(np.linspace(-3, 3, 10), 1)\n",
        "y_gen = np.transpose(model.forward(np.transpose(x_gen)))\n",
        "\n",
        "plt.plot(x_gen, y_gen, 'g-', label='Prédiction du modèle')\n",
        "plt.legend()\n",
        "plt.show()"
      ]
    },
    {
      "cell_type": "markdown",
      "metadata": {
        "id": "mA9-6PqLwff4"
      },
      "source": [
        "### Test sur un problème de classification binaire"
      ]
    },
    {
      "cell_type": "markdown",
      "metadata": {
        "id": "K9AHAgGBwjro"
      },
      "source": [
        "Afin de pouvoir tester notre perceptron mono-couche sur un problème de classification binaire (i.e. effectuer une régression logistique), il est d'abord nécessaire d'implémenter l'entropie croisée binaire.\n",
        "\n",
        "$$ J_{mb} = \\frac{1}{m  n_y} \\sum_{i=1}^{n_y} \\sum_{j=1}^{m} \\left(-y_{ij}  log(\\hat{y}_{ij}) - (1-y_{ij})  log(1-\\hat{y}_{ij})\\right) $$\n",
        "\n",
        "et\n",
        "\n",
        "$$ \\frac{\\partial J_{mb}}{\\partial \\hat{y}} = \\frac{1}{m  n_y} \\left(\\frac{-y}{\\hat{y}} + \\frac{1-y}{1-\\hat{y}}\\right)$$\n",
        "      \n"
      ]
    },
    {
      "cell_type": "code",
      "execution_count": null,
      "metadata": {
        "id": "_xCXP-pQb2oL"
      },
      "outputs": [],
      "source": [
        "### A COMPLETER\n",
        "def binary_cross_entropy(y_true, y_pred):\n",
        "  (n_y, m) = y_true.shape\n",
        "  J_mb = (1/m*n_y)*np.sum(-y_true*np.log(y_pred)-(1-y_true)*np.log(1-y_pred))\n",
        "  dy_hat = ...\n",
        "\n",
        "  return J_mb, dy_hat"
      ]
    },
    {
      "cell_type": "markdown",
      "metadata": {
        "id": "0L3pPIpfSVU7"
      },
      "source": [
        "Le bloc de code suivant permet de générer et d'afficher un ensemble de données pour un problème de classification binaire classique."
      ]
    },
    {
      "cell_type": "code",
      "execution_count": 11,
      "metadata": {
        "id": "4AxQRaegdntx"
      },
      "outputs": [
        {
          "data": {
            "image/png": "[encoded data removed]",
            "text/plain": [
              "<Figure size 640x480 with 1 Axes>"
            ]
          },
          "metadata": {},
          "output_type": "display_data"
        }
      ],
      "source": [
        "from sklearn.model_selection import train_test_split\n",
        "from sklearn import datasets\n",
        "import matplotlib.pyplot as plt\n",
        "\n",
        "x, y = datasets.make_blobs(n_samples=250, n_features=2, centers=2, center_box=(- 3, 3), random_state=1)\n",
        "y = np.expand_dims(y, 1)\n",
        "\n",
        "plt.plot(x[y[:,0]==0,0], x[y[:,0]==0,1], 'b.')\n",
        "plt.plot(x[y[:,0]==1,0], x[y[:,0]==1,1], 'r.')\n",
        "\n",
        "plt.show()"
      ]
    },
    {
      "cell_type": "markdown",
      "metadata": {
        "id": "X7o-u0kcSk_l"
      },
      "source": [
        "A nouveau, vous devez déterminer le nombre de neurones à positionner en entrée et en sortie du perceptron monocouche pour résoudre ce problème. Une fois ceci fait, le code ci-après affiche également la prédiction de votre modèle."
      ]
    },
    {
      "cell_type": "code",
      "execution_count": null,
      "metadata": {
        "id": "TdyntT9zSrum"
      },
      "outputs": [],
      "source": [
        "### A COMPLETER\n",
        "model = DenseLayer(..., ..., ...)\n",
        "model = SGD(x, y, model, ..., learning_rate=0.3, epochs=50, batch_size=20)\n",
        "### FIN\n",
        "\n",
        "plt.plot(x[y[:,0]==0,0], x[y[:,0]==0,1], 'b.')\n",
        "plt.plot(x[y[:,0]==1,0], x[y[:,0]==1,1], 'r.')\n",
        "\n",
        "x1_gen = np.linspace(-6, 2, 10)\n",
        "x2_gen = -model.Wxy[0,0]*x1_gen/model.Wxy[0,1] - model.by[0,0]/model.Wxy[0,1]\n",
        "\n",
        "plt.plot(x1_gen, x2_gen, 'g-')\n",
        "\n",
        "plt.show()"
      ]
    },
    {
      "cell_type": "markdown",
      "metadata": {
        "id": "Ypq84RCl0bnI"
      },
      "source": [
        "## Test sur un problème de classification binaire plus complexe"
      ]
    },
    {
      "cell_type": "markdown",
      "metadata": {
        "id": "6OPzEofrSrSF"
      },
      "source": [
        "Testons maintenant un problème de classification plus complexe :"
      ]
    },
    {
      "cell_type": "code",
      "execution_count": null,
      "metadata": {
        "id": "_IQdphRV0hsB"
      },
      "outputs": [],
      "source": [
        "x, y = datasets.make_gaussian_quantiles(n_samples=250, n_features=2, n_classes=2, random_state=1)\n",
        "y = np.expand_dims(y, 1)\n",
        "\n",
        "plt.plot(x[y[:,0]==0,0], x[y[:,0]==0,1], 'b.')\n",
        "plt.plot(x[y[:,0]==1,0], x[y[:,0]==1,1], 'r.')\n",
        "\n",
        "plt.show()"
      ]
    },
    {
      "cell_type": "markdown",
      "metadata": {
        "id": "8Ol3eqKGSyC5"
      },
      "source": [
        "Le code ci-dessous vous permettra d'afficher la frontière de décision établie par votre modèle :"
      ]
    },
    {
      "cell_type": "code",
      "execution_count": null,
      "metadata": {
        "id": "lN8d7YK76MBm"
      },
      "outputs": [],
      "source": [
        "def print_decision_boundaries(model, x, y):\n",
        "  dx, dy = 0.1, 0.1\n",
        "  y_grid, x_grid = np.mgrid[slice(-4, 4 + dy, dy),\n",
        "                  slice(-4, 4 + dx, dx)]\n",
        "\n",
        "\n",
        "  x_gen = np.concatenate((np.expand_dims(np.reshape(y_grid, (-1)),1),np.expand_dims(np.reshape(x_grid, (-1)),1)), axis=1)\n",
        "  z_gen = model.forward(np.transpose(x_gen)).reshape(x_grid.shape)\n",
        "\n",
        "  z_min, z_max = 0, 1\n",
        "\n",
        "  c = plt.pcolor(x_grid, y_grid, z_gen, cmap='RdBu', vmin=z_min, vmax=z_max)\n",
        "  plt.colorbar(c)\n",
        "  plt.plot(x[y==0,0], x[y==0,1], 'r.')\n",
        "  plt.plot(x[y==1,0], x[y==1,1], 'b.')\n",
        "  plt.show()"
      ]
    },
    {
      "cell_type": "markdown",
      "metadata": {
        "id": "SRNifc8KS_MM"
      },
      "source": [
        "Complétez le code ci-dessous :"
      ]
    },
    {
      "cell_type": "code",
      "execution_count": null,
      "metadata": {
        "id": "E9WV-Az70mR6"
      },
      "outputs": [],
      "source": [
        "### A COMPLETER\n",
        "model = DenseLayer(..., ..., ...)\n",
        "model = SGD(x, y, model, ..., learning_rate=0.3, epochs=50, batch_size=20)\n",
        "### FIN\n",
        "\n",
        "print_decision_boundaries(model, x, y[:,0])"
      ]
    },
    {
      "cell_type": "markdown",
      "metadata": {
        "id": "J9jMU_YcTAJl"
      },
      "source": [
        "Cette fois-ci il n'est pas possible de faire résoudre un problème aussi \"complexe\" à notre simple perceptron monocouche. Nous allons pour cela devoir passer au perceptron multi-couches !"
      ]
    },
    {
      "cell_type": "markdown",
      "metadata": {
        "id": "yiGyXLvum0uI"
      },
      "source": [
        "---"
      ]
    },
    {
      "cell_type": "markdown",
      "metadata": {
        "id": "HIEVrFXkDdMD"
      },
      "source": [
        "# Perceptron multi-couches"
      ]
    },
    {
      "cell_type": "markdown",
      "metadata": {
        "id": "6ZWNGM7vVlCb"
      },
      "source": [
        "## Implémentation du perceptron multi-couches"
      ]
    },
    {
      "cell_type": "markdown",
      "metadata": {
        "id": "1a6VuuWODu8G"
      },
      "source": [
        "A partir du perceptron mono-couche créé précédemment, nous pouvons maintenant implémenter un perceptron multi-couches, qui est un véritable réseau de neurones dans la mesure où il met en jeu plusieurs couches de neurones successives. **Concrètement, le perceptron multi-couches est une composition de perceptron monocouches**, chacun prenant en entrée l'activation de sortie de la couche précédente. Prenons l'exemple ci-dessous :\n",
        "\n",
        "<img src=\"https://drive.google.com/uc?id=1ILboVqVVwy71lqAwM3ZGm6umCQegvmuV\" height=350>\n",
        "\n",
        "\n",
        "Ce perceptron multi-couches est la composition de deux perceptrons monocouches, le premier liant deux neurones d'entrée à deux neurones de sortie, et le second deux neurones d'entrée à un neurone de sortie.\n",
        "\n",
        "<img src=\"https://drive.google.com/uc?id=1hyrrsf8ZpqUcy2_T89HbQX7fpmqtbNwa\" height=350>\n",
        "\n",
        "Voici comment nous l'implémenterons : le perceptron multi-couches consiste simplement en une liste de perceptrons monocouches (*DenseLayer*). A l'initialisation, le perceptron multi-couches est une liste vide, dans laquelle il est possible d'ajouter des couches denses (fonction *add_layer()*).\n",
        "\n",
        "```python\n",
        "model = MultiLayerPerceptron()\n",
        "model.add_layer(DenseLayer(2, 2, 'relu'))\n",
        "model.add_layer(DenseLayer(2, 1, 'sigmoid'))\n",
        "```\n",
        "\n",
        "La fonction *forward()* du perceptron multi-couches consiste en le calcul successif de la sortie des couches denses. Chaque couche dense effectue une prédiction sur la sortie de la couche dense précédente.\n",
        "\n",
        "La fonction *backward()* implémente l'algorithme de rétro-propagation du gradient. Les gradients des paramètres de la dernière couche sont calculés en premier, et sont utilisés pour calculer les gradients de la couche précédente, comme illustré sur cette figure.\n",
        "\n",
        "<img src=\"https://drive.google.com/uc?id=1KVH0DWbAwT7R6-XmpqmpWob1jqftqC84\" height=350>"
      ]
    },
    {
      "cell_type": "code",
      "execution_count": null,
      "metadata": {
        "id": "RNhqq0KXm4Jd"
      },
      "outputs": [],
      "source": [
        "class MultiLayerPerceptron:\n",
        "    def __init__(self):\n",
        "      # Initialisation de la liste de couches du perceptron multi-couches à la liste vide\n",
        "      self.layers = []\n",
        "\n",
        "    # Fonction permettant d'ajouter la couche passée en paramètre dans la liste de couches\n",
        "    # du perceptron multi-couches\n",
        "    def add_layer(self, layer):\n",
        "      self.layers.append(layer)\n",
        "\n",
        "    # Fonction réalisant la prédiction du perceptron multi-couches :\n",
        "    # Elle consiste en la prédiction successive de chacune des couches de la liste de couches,\n",
        "    # chacune prenant en entrée la prédiction de la couche précédente\n",
        "    def forward(self, x_batch):\n",
        "\n",
        "      for i in range(len(self.layers)):\n",
        "        ###  A COMPLETER\n",
        "\n",
        "      return ...\n",
        "\n",
        "    # Fonction de calcul des gradients de la fonction objectif par rapport à chaque paramètre\n",
        "    # du perceptron multi-couches\n",
        "    # L'entrée dy_hat correspond au gradient de la fonction objectif par rapport à la prédiction\n",
        "    # finale du perceptron multi-couches (notée dJ/dŷ sur la figure précédente)\n",
        "    # Cette fonction doit implémenter la rétropropagation du gradient : on parcourt la liste des\n",
        "    # couches en sens inverse (fonction reversed) et le gradient de la fonction objectif par rapport\n",
        "    # à l'entrée d'une couche est utilisé pour calculer les gradients de la couche précédente\n",
        "    #\n",
        "    # Cette fonction retourne une liste de dictionnaires de gradients, de même dimension que le nombre\n",
        "    # de couches\n",
        "    def backward(self, dy_hat):\n",
        "      gradients = []\n",
        "      for i in reversed(range(len(self.layers))):\n",
        "        ### A COMPLETER\n",
        "\n",
        "      return gradients\n",
        "\n",
        "    # Fonction de mise à jour des paramètres en fonction des gradients établis dans la\n",
        "    # fonction backward et d'un taux d'apprentissage\n",
        "    def update_parameters(self, gradients, learning_rate):\n",
        "      for i in range(len(self.layers)):\n",
        "        ### A COMPLETER"
      ]
    },
    {
      "cell_type": "markdown",
      "metadata": {
        "id": "GyIW025tVcPR"
      },
      "source": [
        "## Test sur le problème plus complexe de classification binaire"
      ]
    },
    {
      "cell_type": "markdown",
      "metadata": {
        "id": "JEg5-Z7mVEWd"
      },
      "source": [
        "Vous pouvez maintenant tester votre perceptron multi-couches sur le problème précédent. Deux couches suffisent pour résoudre le problème !"
      ]
    },
    {
      "cell_type": "code",
      "execution_count": null,
      "metadata": {
        "id": "pijGm1ipwrAw"
      },
      "outputs": [],
      "source": [
        "x, y = datasets.make_gaussian_quantiles(n_samples=250, n_features=2, n_classes=2, random_state=1)\n",
        "y = np.expand_dims(y, 1)\n",
        "\n",
        "plt.plot(x[y[:,0]==0,0], x[y[:,0]==0,1], 'b.')\n",
        "plt.plot(x[y[:,0]==1,0], x[y[:,0]==1,1], 'r.')\n",
        "\n",
        "plt.show()"
      ]
    },
    {
      "cell_type": "code",
      "execution_count": null,
      "metadata": {
        "id": "h3He5gXmxQ1j"
      },
      "outputs": [],
      "source": [
        "model = MultiLayerPerceptron()\n",
        "model.add_layer(DenseLayer(2, 10, 'relu'))\n",
        "model.add_layer(DenseLayer(10, 1, 'sigmoid'))\n",
        "\n",
        "model = SGD(x, y, model, 'bce', learning_rate=0.3, epochs=60, batch_size=20)\n",
        "\n",
        "print_decision_boundaries(model, x, y[:,0])"
      ]
    },
    {
      "cell_type": "markdown",
      "metadata": {
        "id": "SMTeraduVplm"
      },
      "source": [
        "# Quelques exercices supplémentaires (complètement facultatifs !)"
      ]
    },
    {
      "cell_type": "markdown",
      "metadata": {
        "id": "46K0mq5bVvT1"
      },
      "source": [
        "## Evanescence du gradient"
      ]
    },
    {
      "cell_type": "markdown",
      "metadata": {
        "id": "pVBCGX9iVzdL"
      },
      "source": [
        "Testez le réseau suivant sur le problème simple de classification binaire évoqué dans la partie précédente :\n",
        "```python\n",
        "model.add_layer(DenseLayer(2, 10, 'sigmoid'))\n",
        "model.add_layer(DenseLayer(10, 10, 'sigmoid'))\n",
        "model.add_layer(DenseLayer(10, 10, 'sigmoid'))\n",
        "model.add_layer(DenseLayer(10, 10, 'sigmoid'))\n",
        "model.add_layer(DenseLayer(10, 1, 'sigmoid'))\n",
        "```\n",
        "\n",
        "\n",
        "\n",
        "1.   Qu'observez-vous ?\n",
        "2.   Comment résoudre ce problème ?\n",
        "\n",
        "\n"
      ]
    },
    {
      "cell_type": "markdown",
      "metadata": {
        "id": "YBChCCJREOuP"
      },
      "source": [
        "## Application à un problème de classification d'image\n"
      ]
    },
    {
      "cell_type": "markdown",
      "metadata": {
        "id": "C7efDmj6WNSg"
      },
      "source": [
        "Le code ci-dessous vous permet de charger l'ensemble de données CIFAR-10 qui regroupe des imagettes de taille $32 \\times 32$ représentant 10 types d'objets différents.\n",
        "\n",
        "Des images de chat et de chien sont extraites de cet ensemble : à vous de mettre en place un perceptron multi-couches de classification binaire pour apprendre à reconnaître un chien d'un chat dans une image."
      ]
    },
    {
      "cell_type": "code",
      "execution_count": null,
      "metadata": {
        "id": "ZFyeFRYfEN3A"
      },
      "outputs": [],
      "source": [
        "import tensorflow as tf\n",
        "\n",
        "# Récupération des données\n",
        "(x_train, y_train), (x_test, y_test) = tf.keras.datasets.cifar10.load_data()\n",
        "\n",
        "# La base de données CIFAR contient des images issues de 10 classes :\n",
        "# 0\tairplane\n",
        "# 1\tautomobile\n",
        "# 2\tbird\n",
        "# 3\tcat\n",
        "# 4\tdeer\n",
        "# 5\tdog\n",
        "# 6\tfrog\n",
        "# 7\thorse\n",
        "# 8\tship\n",
        "# 9\ttruck\n",
        "\n",
        "# Préparation des données pour la classification binaire :\n",
        "\n",
        "# Extraction des images des classes de chat et chien\n",
        "indices_train = np.squeeze(y_train)\n",
        "x_cat_train = x_train[indices_train==3,:]\n",
        "x_dog_train = x_train[indices_train==5,:]\n",
        "\n",
        "indices_test = np.squeeze(y_test)\n",
        "x_cat_test = x_test[indices_test==3,:]\n",
        "x_dog_test = x_test[indices_test==5,:]\n",
        "\n",
        "# Création des données d'apprentissage et de test\n",
        "# Les images sont redimensionnées en vecteurs de dimension 3072 (32*32*3)\n",
        "# On assigne 0 à la classe chat et 1 à la classe chien\n",
        "x_train = np.concatenate((np.resize(x_cat_train[0:250],(250, 32*32*3)), np.resize(x_dog_train[0:250],(250, 32*32*3))), axis=0)\n",
        "y_train = np.expand_dims(np.concatenate((np.zeros((250)), np.ones((250))),axis=0),1)\n",
        "\n",
        "x_test = np.concatenate((np.resize(x_cat_test,(1000, 32*32*3)), np.resize(x_dog_test,(1000, 32*32*3))), axis=0)\n",
        "y_test = np.expand_dims(np.concatenate((np.zeros((1000)), np.ones((1000))),axis=0),1)\n",
        "\n",
        "# Normalisation des entrées\n",
        "x_train = x_train/255\n",
        "x_test = x_test/255"
      ]
    },
    {
      "cell_type": "code",
      "execution_count": null,
      "metadata": {
        "id": "VBzhs000JbHT"
      },
      "outputs": [],
      "source": [
        "# A COMPLETER\n",
        "model = MultiLayerPerceptron()\n",
        "model.add_layer(DenseLayer(..., ..., ...))\n",
        "...\n",
        "# A vous de tester le nombre de couches qui vous semble adéquat\n",
        "\n",
        "model = SGD(x_train, y_train, model, ..., learning_rate=0.03, epochs=10, batch_size=10)"
      ]
    },
    {
      "cell_type": "code",
      "execution_count": null,
      "metadata": {
        "id": "hPUcXM60L0-b"
      },
      "outputs": [],
      "source": [
        "# Prédiction du modèle sur les données de test\n",
        "y_pred_test = np.transpose(model.forward(np.transpose(x_test)))\n",
        "\n",
        "# Calcul de la précision : un écart inférieur à 0.5 entre prédiction et label\n",
        "#  est considéré comme bonne prédiction\n",
        "prediction_eval = np.where(np.abs(y_pred_test-y_test)<0.5, 1, 0)\n",
        "overall_test_precision = 100*np.sum(prediction_eval)/y_test.shape[0]\n",
        "print(f\"Précision de {overall_test_precision:2.1f} %\")"
      ]
    },
    {
      "cell_type": "markdown",
      "metadata": {
        "id": "A1jASzh3PSKa"
      },
      "source": [
        "Si vous obtenez une précision supérieure à 50%, votre réseau est meilleur qu'une prédiction aléatoire, ce qui est déjà bien ! Notez qu'ici nous avons circonscrit l'ensemble d'apprentissage à 500 échantillons (250 de chaque classe) car les calculs de produit matriciel sont longs. C'est tout l'intérêt de porter les calculs sur GPU ou TPU, des dispositifs matériels spécialement conçus et optimisés pour paralléliser ces calculs."
      ]
    },
    {
      "cell_type": "markdown",
      "metadata": {
        "id": "YV4WZTfL0KB9"
      },
      "source": [
        "## Utilisation de la librairie Keras"
      ]
    },
    {
      "cell_type": "markdown",
      "metadata": {
        "id": "XFR3jwelW1jh"
      },
      "source": [
        "L'utilisation d'une librairie comme Keras permet d'abstraire toutes les difficultés présentées dans ce TP : voici par exemple comment résoudre grâce à Keras le premier problème de régression linéaire présenté dans ce TP."
      ]
    },
    {
      "cell_type": "code",
      "execution_count": null,
      "metadata": {
        "id": "ew3_k9uK0P9g"
      },
      "outputs": [],
      "source": [
        "x, y = datasets.make_regression(n_samples=250, n_features=1, n_targets=1, random_state=1, noise=10)\n",
        "\n",
        "plt.plot(x, y, 'b.', label='Ensemble d\\'apprentissage')\n",
        "\n",
        "plt.legend()\n",
        "plt.show()"
      ]
    },
    {
      "cell_type": "code",
      "execution_count": null,
      "metadata": {
        "id": "jBQYiUU-XX9a"
      },
      "outputs": [],
      "source": [
        "from tensorflow.keras.models import Sequential\n",
        "from tensorflow.keras.layers import Dense\n",
        "\n",
        "model = Sequential()\n",
        "model.add(Dense(1, activation='linear', input_dim=1)) # input_dim indique la dimension de la couche d'entrée, ici 1\n",
        "\n",
        "model.summary() # affiche un résumé du modèle"
      ]
    },
    {
      "cell_type": "code",
      "execution_count": null,
      "metadata": {
        "id": "S0Vqoo26Xfe3"
      },
      "outputs": [],
      "source": [
        "from tensorflow.keras import optimizers\n",
        "\n",
        "sgd = optimizers.SGD(learning_rate=0.1) # On choisit la descente de gradient stochastique, avec un taux d'apprentssage de 0.1\n",
        "\n",
        "# On définit ici, pour le modèle introduit plus tôt, l'optimiseur choisi, la fonction de perte (ici\n",
        "# l'erreur quadratique moyenne pour un problème de régression) et les métriques que l'on veut observer pendant\n",
        "# l'entraînement. L'erreur absolue moyenne (MAE) est un indicateur plus simple à interpréter que la MSE.\n",
        "model.compile(optimizer=sgd,\n",
        "              loss='mean_squared_error',\n",
        "              metrics=['mae'])\n",
        "\n",
        "# Entraînement du modèle avec des mini-batchs de taille 20, sur 10 epochs.\n",
        "# Le paramètre validation_split signifie qu'on tire aléatoirement une partie des données\n",
        "# (ici 20%) pour servir d'ensemble de validation\n",
        "history = model.fit(x, y, validation_split=0.2, epochs=10, batch_size=20)\n"
      ]
    },
    {
      "cell_type": "code",
      "execution_count": null,
      "metadata": {
        "id": "46LiNDvGYQdK"
      },
      "outputs": [],
      "source": [
        "plt.plot(x, y, 'b.', label='Ensemble d\\'apprentissage')\n",
        "\n",
        "x_gen = np.expand_dims(np.linspace(-3, 3, 10), 1)\n",
        "y_gen = model.predict(x_gen)\n",
        "\n",
        "plt.plot(x_gen, y_gen, 'g-', label='Prédiction du modèle')\n",
        "plt.legend()\n",
        "plt.show()"
      ]
    },
    {
      "cell_type": "markdown",
      "metadata": {
        "id": "kHu5v6lUYqTm"
      },
      "source": [
        "S'il vous reste du temps, reprenez les différents problèmes définis précédemment et utilisez la librairie Keras pour les résoudre."
      ]
    }
  ],
  "metadata": {
    "colab": {
      "provenance": [],
      "toc_visible": true
    },
    "coursera": {
      "course_slug": "nlp-sequence-models",
      "graded_item_id": "xxuVc",
      "launcher_item_id": "X20PE"
    },
    "kernelspec": {
      "display_name": "Python 3",
      "language": "python",
      "name": "python3"
    },
    "language_info": {
      "codemirror_mode": {
        "name": "ipython",
        "version": 3
      },
      "file_extension": ".py",
      "mimetype": "text/x-python",
      "name": "python",
      "nbconvert_exporter": "python",
      "pygments_lexer": "ipython3",
      "version": "3.9.13"
    },
    "toc": {
      "nav_menu": {},
      "number_sections": true,
      "sideBar": true,
      "skip_h1_title": false,
      "toc_cell": true,
      "toc_position": {},
      "toc_section_display": "block",
      "toc_window_display": false
    }
  },
  "nbformat": 4,
  "nbformat_minor": 0
}
